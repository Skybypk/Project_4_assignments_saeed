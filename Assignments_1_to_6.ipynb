{
  "nbformat": 4,
  "nbformat_minor": 0,
  "metadata": {
    "colab": {
      "provenance": [],
      "authorship_tag": "ABX9TyPyQ8noj1TP9Z4tbk7vCjPw",
      "include_colab_link": true
    },
    "kernelspec": {
      "name": "python3",
      "display_name": "Python 3"
    },
    "language_info": {
      "name": "python"
    }
  },
  "cells": [
    {
      "cell_type": "markdown",
      "metadata": {
        "id": "view-in-github",
        "colab_type": "text"
      },
      "source": [
        "<a href=\"https://colab.research.google.com/github/Skybypk/Project_4_assignments_saeed/blob/main/Assignments_1_to_6.ipynb\" target=\"_parent\"><img src=\"https://colab.research.google.com/assets/colab-badge.svg\" alt=\"Open In Colab\"/></a>"
      ]
    },
    {
      "cell_type": "code",
      "execution_count": null,
      "metadata": {
        "colab": {
          "base_uri": "https://localhost:8080/"
        },
        "id": "_zvgrPlL3aWV",
        "outputId": "bdab723e-f2df-438b-c9cc-e46b114fd402"
      },
      "outputs": [
        {
          "output_type": "stream",
          "name": "stdout",
          "text": [
            "Mad Libs Story Generator\n",
            "Enter a place: Karachi\n",
            "Enter an animal: Lion\n",
            "Enter an adjective: Happy\n",
            "Enter a verb: sleep\n",
            "Enter your favorite food: Biryani\n",
            "Enter your friend's name: Noman\n",
            "Enter an emotion: Good\n",
            "\n",
            "✨ Here's your Mad Libs story! ✨\n",
            "\n",
            "One day, I went to Karachi with my best friend Noman.\n",
            "We saw a huge Lion that looked very Happy!\n",
            "\n",
            "Suddenly, it started to sleep towards us.\n",
            "We were so scared that we threw Biryani at it.\n",
            "\n",
            "To our surprise, the Lion loved the Biryani and started dancing with Good.\n",
            "We laughed so hard and promised never to forget that day in Karachi.\n",
            "\n"
          ]
        }
      ],
      "source": [
        "print(\"Mad Libs Story Generator\")\n",
        "# Asking for user inputs\n",
        "place = input(\"Enter a place: \")\n",
        "animal = input(\"Enter an animal: \")\n",
        "adjective = input(\"Enter an adjective: \")\n",
        "verb = input(\"Enter a verb: \")\n",
        "food = input(\"Enter your favorite food: \")\n",
        "friend_name = input(\"Enter your friend's name: \")\n",
        "emotion = input(\"Enter an emotion: \")\n",
        "\n",
        "# Creating the story\n",
        "story = f\"\"\"\n",
        "One day, I went to {place} with my best friend {friend_name}.\n",
        "We saw a huge {animal} that looked very {adjective}!\n",
        "\n",
        "Suddenly, it started to {verb} towards us.\n",
        "We were so scared that we threw {food} at it.\n",
        "\n",
        "To our surprise, the {animal} loved the {food} and started dancing with {emotion}.\n",
        "We laughed so hard and promised never to forget that day in {place}.\n",
        "\"\"\"\n",
        "\n",
        "# Displaying the final story\n",
        "print(\"\\n✨ Here's your Mad Libs story! ✨\")\n",
        "print(story)\n",
        "\n",
        "\n"
      ]
    },
    {
      "cell_type": "code",
      "source": [
        "print(\"Guess the Number Game Python Project (computer)\")\n",
        "import random\n",
        "\n",
        "def guess_the_number():\n",
        "    print(\"Welcome to the Guess the Number Game!\")\n",
        "    print(\"I'm thinking of a number between 1 and 100.\")\n",
        "\n",
        "    number_to_guess = random.randint(1, 100)\n",
        "    attempts = 0\n",
        "\n",
        "    while True:\n",
        "        try:\n",
        "            user_guess = int(input(\"Take a guess: \"))\n",
        "            attempts += 1\n",
        "\n",
        "            if user_guess < number_to_guess:\n",
        "                print(\"Too low! Try again.\")\n",
        "            elif user_guess > number_to_guess:\n",
        "                print(\"Too high! Try again.\")\n",
        "            else:\n",
        "                print(f\"Congratulations! You guessed the number in {attempts} attempts.\")\n",
        "                break\n",
        "        except ValueError:\n",
        "            print(\"Please enter a valid number.\")\n",
        "\n",
        "# Run the game\n",
        "guess_the_number()\n",
        "\n"
      ],
      "metadata": {
        "colab": {
          "base_uri": "https://localhost:8080/"
        },
        "id": "9nWQ_d075_bp",
        "outputId": "c9dd735d-9e31-42a1-a7ac-932870d42552"
      },
      "execution_count": null,
      "outputs": [
        {
          "output_type": "stream",
          "name": "stdout",
          "text": [
            "Guess the Number Game Python Project (computer)\n",
            "Welcome to the Guess the Number Game!\n",
            "I'm thinking of a number between 1 and 100.\n",
            "Take a guess: 48\n",
            "Too high! Try again.\n",
            "Take a guess: 29\n",
            "Too low! Try again.\n",
            "Take a guess: 39\n",
            "Too high! Try again.\n",
            "Take a guess: 33\n",
            "Too high! Try again.\n",
            "Take a guess: 31\n",
            "Congratulations! You guessed the number in 5 attempts.\n"
          ]
        }
      ]
    },
    {
      "cell_type": "code",
      "source": [
        "print(\"Guess the Number Game Python Project (user)\")\n",
        "import time\n",
        "\n",
        "def computer_guesses_number():\n",
        "    print(\"Welcome to the Guess the Number Game (User version)!\")\n",
        "    print(\"Think of a number between 1 and 100, and I will try to guess it.\")\n",
        "    input(\"When you're ready, press Enter...\")\n",
        "\n",
        "    low = 1\n",
        "    high = 100\n",
        "    attempts = 0\n",
        "\n",
        "    while low <= high:\n",
        "        guess = (low + high) // 2\n",
        "        attempts += 1\n",
        "        print(f\"My guess is: {guess}\")\n",
        "        feedback = input(\"Is it (H)igh, (L)ow, or (C)orrect? \").lower()\n",
        "\n",
        "        if feedback == 'c':\n",
        "            print(f\"Yay! I guessed your number in {attempts} attempts. 🎉\")\n",
        "            break\n",
        "        elif feedback == 'h':\n",
        "            high = guess - 1\n",
        "        elif feedback == 'l':\n",
        "            low = guess + 1\n",
        "        else:\n",
        "            print(\"Invalid input. Please enter H, L, or C.\")\n",
        "\n",
        "# Run the game\n",
        "computer_guesses_number()\n"
      ],
      "metadata": {
        "colab": {
          "base_uri": "https://localhost:8080/"
        },
        "id": "3l-JN-KY6iJb",
        "outputId": "eee3aabe-d6db-4134-e66f-50969484bfc1"
      },
      "execution_count": null,
      "outputs": [
        {
          "output_type": "stream",
          "name": "stdout",
          "text": [
            "Guess the Number Game Python Project (user)\n",
            "Welcome to the Guess the Number Game (User version)!\n",
            "Think of a number between 1 and 100, and I will try to guess it.\n",
            "When you're ready, press Enter...48\n",
            "My guess is: 50\n",
            "Is it (H)igh, (L)ow, or (C)orrect? 50\n",
            "Invalid input. Please enter H, L, or C.\n",
            "My guess is: 50\n",
            "Is it (H)igh, (L)ow, or (C)orrect? 31\n",
            "Invalid input. Please enter H, L, or C.\n",
            "My guess is: 50\n",
            "Is it (H)igh, (L)ow, or (C)orrect? c\n",
            "Yay! I guessed your number in 3 attempts. 🎉\n"
          ]
        }
      ]
    },
    {
      "cell_type": "code",
      "source": [
        "print(\"Rock, paper, scissors Python Project\")\n",
        "import time\n",
        "\n",
        "def computer_guesses_number():\n",
        "    print(\"Welcome to the Guess the Number Game (User version)!\")\n",
        "    print(\"Think of a number between 1 and 100, and I will try to guess it.\")\n",
        "    input(\"When you're ready, press Enter...\")\n",
        "\n",
        "    low = 1\n",
        "    high = 100\n",
        "    attempts = 0\n",
        "\n",
        "    while low <= high:\n",
        "        guess = (low + high) // 2\n",
        "        attempts += 1\n",
        "        print(f\"My guess is: {guess}\")\n",
        "        feedback = input(\"Is it (H)igh, (L)ow, or (C)orrect? \").lower()\n",
        "\n",
        "        if feedback == 'c':\n",
        "            print(f\"Yay! I guessed your number in {attempts} attempts. 🎉\")\n",
        "            break\n",
        "        elif feedback == 'h':\n",
        "            high = guess - 1\n",
        "        elif feedback == 'l':\n",
        "            low = guess + 1\n",
        "        else:\n",
        "            print(\"Invalid input. Please enter H, L, or C.\")\n",
        "\n",
        "# Run the game\n",
        "computer_guesses_number()\n"
      ],
      "metadata": {
        "colab": {
          "base_uri": "https://localhost:8080/"
        },
        "id": "y1ZIprK27UjP",
        "outputId": "5388a23a-339c-4b9c-b7d1-25498255efb8"
      },
      "execution_count": null,
      "outputs": [
        {
          "output_type": "stream",
          "name": "stdout",
          "text": [
            "Rock, paper, scissors Python Project\n",
            "Welcome to the Guess the Number Game (User version)!\n",
            "Think of a number between 1 and 100, and I will try to guess it.\n",
            "When you're ready, press Enter...51\n",
            "My guess is: 50\n",
            "Is it (H)igh, (L)ow, or (C)orrect? c\n",
            "Yay! I guessed your number in 1 attempts. 🎉\n"
          ]
        }
      ]
    },
    {
      "cell_type": "code",
      "source": [
        "print(\"Hangman Python Project\")\n",
        "import random\n",
        "\n",
        "def hangman():\n",
        "    words = ['python', 'islam', 'pakistan', 'developer', 'hangman', 'colab', 'keyboard', 'computer', 'programming']\n",
        "    word = random.choice(words)\n",
        "    guessed_letters = []\n",
        "    attempts = 6\n",
        "\n",
        "    print(\"🕹️ Welcome to Hangman!\")\n",
        "    print(\"Guess the word, one letter at a time.\")\n",
        "\n",
        "    while attempts > 0:\n",
        "        display_word = ''\n",
        "        for letter in word:\n",
        "            if letter in guessed_letters:\n",
        "                display_word += letter + ' '\n",
        "            else:\n",
        "                display_word += '_ '\n",
        "\n",
        "        print(\"\\nWord:\", display_word.strip())\n",
        "\n",
        "        if '_' not in display_word:\n",
        "            print(\"🎉 Congratulations! You've guessed the word correctly!\")\n",
        "            break\n",
        "\n",
        "        guess = input(\"Enter a letter: \").lower()\n",
        "\n",
        "        if len(guess) != 1 or not guess.isalpha():\n",
        "            print(\"Please enter a single valid letter.\")\n",
        "            continue\n",
        "\n",
        "        if guess in guessed_letters:\n",
        "            print(\"You've already guessed that letter. Try a different one.\")\n",
        "            continue\n",
        "\n",
        "        guessed_letters.append(guess)\n",
        "\n",
        "        if guess not in word:\n",
        "            attempts -= 1\n",
        "            print(f\"❌ Wrong guess. Attempts left: {attempts}\")\n",
        "        else:\n",
        "            print(\"✅ Good guess!\")\n",
        "\n",
        "    if attempts == 0:\n",
        "        print(f\"\\n💀 Game Over! The word was: {word}\")\n",
        "\n",
        "# Run the game\n",
        "hangman()\n"
      ],
      "metadata": {
        "colab": {
          "base_uri": "https://localhost:8080/"
        },
        "id": "aG91o6NJ72Gp",
        "outputId": "635f3618-8496-43f5-91a5-e1b8337539c3"
      },
      "execution_count": null,
      "outputs": [
        {
          "output_type": "stream",
          "name": "stdout",
          "text": [
            "Hangman Python Project\n",
            "🕹️ Welcome to Hangman!\n",
            "Guess the word, one letter at a time.\n",
            "\n",
            "Word: _ _ _ _ _ _ _\n",
            "Enter a letter: honesty is the best policy\n",
            "Please enter a single valid letter.\n",
            "\n",
            "Word: _ _ _ _ _ _ _\n",
            "Enter a letter: honesty\n",
            "Please enter a single valid letter.\n",
            "\n",
            "Word: _ _ _ _ _ _ _\n",
            "Enter a letter: \n",
            "Please enter a single valid letter.\n",
            "\n",
            "Word: _ _ _ _ _ _ _\n",
            "Enter a letter: karachi\n",
            "Please enter a single valid letter.\n",
            "\n",
            "Word: _ _ _ _ _ _ _\n",
            "Enter a letter: a\n",
            "✅ Good guess!\n",
            "\n",
            "Word: _ a _ _ _ a _\n",
            "Enter a letter: b\n",
            "❌ Wrong guess. Attempts left: 5\n",
            "\n",
            "Word: _ a _ _ _ a _\n",
            "Enter a letter: c\n",
            "❌ Wrong guess. Attempts left: 4\n",
            "\n",
            "Word: _ a _ _ _ a _\n",
            "Enter a letter: ab\n",
            "Please enter a single valid letter.\n",
            "\n",
            "Word: _ a _ _ _ a _\n",
            "Enter a letter: b\n",
            "You've already guessed that letter. Try a different one.\n",
            "\n",
            "Word: _ a _ _ _ a _\n",
            "Enter a letter: 2\n",
            "Please enter a single valid letter.\n",
            "\n",
            "Word: _ a _ _ _ a _\n",
            "Enter a letter: z\n",
            "❌ Wrong guess. Attempts left: 3\n",
            "\n",
            "Word: _ a _ _ _ a _\n",
            "Enter a letter: a\n",
            "You've already guessed that letter. Try a different one.\n",
            "\n",
            "Word: _ a _ _ _ a _\n",
            "Enter a letter: d\n",
            "❌ Wrong guess. Attempts left: 2\n",
            "\n",
            "Word: _ a _ _ _ a _\n",
            "Enter a letter: \n",
            "Please enter a single valid letter.\n",
            "\n",
            "Word: _ a _ _ _ a _\n",
            "Enter a letter: f\n",
            "❌ Wrong guess. Attempts left: 1\n",
            "\n",
            "Word: _ a _ _ _ a _\n",
            "Enter a letter: g\n",
            "✅ Good guess!\n",
            "\n",
            "Word: _ a _ g _ a _\n",
            "Enter a letter: n\n",
            "✅ Good guess!\n",
            "\n",
            "Word: _ a n g _ a n\n",
            "Enter a letter: u\n",
            "❌ Wrong guess. Attempts left: 0\n",
            "\n",
            "💀 Game Over! The word was: hangman\n"
          ]
        }
      ]
    },
    {
      "cell_type": "code",
      "source": [
        "print(\"Countdown Timer Python Project\")\n",
        "import time\n",
        "def countdown_timer():\n",
        "    print(\"⏰ Welcome to the Countdown Timer!\")\n",
        "\n",
        "    # User input: total seconds\n",
        "    try:\n",
        "        total_time = int(input(\"Enter time in seconds: \"))\n",
        "    except ValueError:\n",
        "        print(\"❌ Please enter a valid number.\")\n",
        "        return\n",
        "\n",
        "    while total_time > 0:\n",
        "        mins, secs = divmod(total_time, 60)\n",
        "        timer_display = f\"{mins:02d}:{secs:02d}\"\n",
        "        print(timer_display, end=\"\\r\")  # Overwrite same line\n",
        "        time.sleep(1)\n",
        "        total_time -= 1\n",
        "\n",
        "    print(\"⏳ Time's up! 🚨\")\n",
        "\n",
        "# Run the timer\n",
        "countdown_timer()\n",
        "\n"
      ],
      "metadata": {
        "colab": {
          "base_uri": "https://localhost:8080/"
        },
        "id": "v299uIMr-SNK",
        "outputId": "bb880317-038d-4a45-d00e-f075f4791230"
      },
      "execution_count": null,
      "outputs": [
        {
          "output_type": "stream",
          "name": "stdout",
          "text": [
            "Countdown Timer Python Project\n",
            "⏰ Welcome to the Countdown Timer!\n",
            "Enter time in seconds: 120\n",
            "⏳ Time's up! 🚨\n"
          ]
        }
      ]
    },
    {
      "cell_type": "code",
      "source": [
        "print(\"Password Generator Python Project\")\n",
        "import random\n",
        "import string\n",
        "\n",
        "def generate_password():\n",
        "    print(\"🔐 Welcome to the Password Generator!\")\n",
        "\n",
        "    try:\n",
        "        length = int(input(\"Enter desired password length: \"))\n",
        "        if length < 4:\n",
        "            print(\"⚠️ Password should be at least 4 characters long.\")\n",
        "            return\n",
        "    except ValueError:\n",
        "        print(\"❌ Please enter a valid number.\")\n",
        "        return\n",
        "\n",
        "    # Characters to choose from\n",
        "    all_chars = string.ascii_letters + string.digits + string.punctuation\n",
        "\n",
        "    # Generate password\n",
        "    password = ''.join(random.choice(all_chars) for _ in range(length))\n",
        "    print(f\"\\n✅ Your generated password is:\\n{password}\")\n",
        "\n",
        "# Run the generator\n",
        "generate_password()\n"
      ],
      "metadata": {
        "colab": {
          "base_uri": "https://localhost:8080/"
        },
        "id": "LCV86G2WDFWh",
        "outputId": "081e59ac-31fe-4f30-b497-98f1d0b2d13a"
      },
      "execution_count": null,
      "outputs": [
        {
          "output_type": "stream",
          "name": "stdout",
          "text": [
            "Password Generator Python Project\n",
            "🔐 Welcome to the Password Generator!\n",
            "Enter desired password length: 8\n",
            "\n",
            "✅ Your generated password is:\n",
            "bm};elbP\n"
          ]
        }
      ]
    },
    {
      "cell_type": "code",
      "source": [
        "print(\"Create a Python Streamlit BMI Calculator Web App in Just 6 Minutes\")\n",
        "# CELL 1 - INSTALLATIONS\n",
        "!pip install -q streamlit\n",
        "!pip install pyngrok\n",
        "!npm install -g localtunnel\n",
        "\n",
        " # CELL 2 - APP CODE\n",
        "with open('app.py', 'w') as f:\n",
        "    f.write(\"\"\"\n",
        "import streamlit as st\n",
        "\n",
        "st.title(\"🚀 BMI Calculator\")\n",
        "st.write(\"Enter your weight and height to calculate BMI!\")\n",
        "\n",
        "weight = st.number_input(\"Your weight (in kg)\", min_value=1.0, max_value=300.0)\n",
        "height = st.number_input(\"Your height (in meters)\", min_value=0.5, max_value=3.0)\n",
        "\n",
        "if st.button(\"Calculate BMI\"):\n",
        "    bmi = weight / (height ** 2)\n",
        "    st.success(f\"✅ Your BMI is: {bmi:.2f}\")\n",
        "\n",
        "    if bmi < 18.5:\n",
        "        st.warning(\"⚠ Underweight! Consider gaining some weight.\")\n",
        "    elif 18.5 <= bmi < 25:\n",
        "        st.success(\"🎉 Excellent! You're at a healthy weight.\")\n",
        "    elif 25 <= bmi < 30:\n",
        "        st.warning(\"⚠ Overweight! Consider some exercise.\")\n",
        "    else:\n",
        "        st.error(\"❌ Obese! Please consult a doctor.\")\n",
        "\"\"\")\n",
        "    # CELL 3 - WITH AUTH TOKEN\n",
        "from pyngrok import ngrok\n",
        "ngrok.set_auth_token(\"2vv7eqdqNrg5Xf74GT8ZcXAUHfC_RRBwMePM3mtQFY7UAPoc\")\n",
        "\n",
        "!streamlit run app.py --server.port 8501 &>/dev/null &\n",
        "public_url = ngrok.connect(addr=\"8501\", proto=\"http\")\n",
        "print(\"🎉 Your Permanent URL:\", public_url)"
      ],
      "metadata": {
        "colab": {
          "base_uri": "https://localhost:8080/"
        },
        "id": "WYwyN401QKPW",
        "outputId": "e4508ada-9a2e-4482-ea61-7da69775d25c"
      },
      "execution_count": 35,
      "outputs": [
        {
          "output_type": "stream",
          "name": "stdout",
          "text": [
            "Requirement already satisfied: pyngrok in /usr/local/lib/python3.11/dist-packages (7.2.5)\n",
            "Requirement already satisfied: PyYAML>=5.1 in /usr/local/lib/python3.11/dist-packages (from pyngrok) (6.0.2)\n",
            "\u001b[1G\u001b[0K⠙\u001b[1G\u001b[0K⠹\u001b[1G\u001b[0K⠸\u001b[1G\u001b[0K⠼\u001b[1G\u001b[0K⠴\u001b[1G\u001b[0K⠦\u001b[1G\u001b[0K⠧\u001b[1G\u001b[0K⠇\u001b[1G\u001b[0K⠏\u001b[1G\u001b[0K⠋\u001b[1G\u001b[0K⠙\u001b[1G\u001b[0K⠹\u001b[1G\u001b[0K⠸\u001b[1G\u001b[0K⠼\u001b[1G\u001b[0K⠴\u001b[1G\u001b[0K⠦\u001b[1G\u001b[0K⠧\u001b[1G\u001b[0K⠇\u001b[1G\u001b[0K⠏\u001b[1G\u001b[0K\n",
            "changed 22 packages in 2s\n",
            "\u001b[1G\u001b[0K⠏\u001b[1G\u001b[0K\n",
            "\u001b[1G\u001b[0K⠏\u001b[1G\u001b[0K3 packages are looking for funding\n",
            "\u001b[1G\u001b[0K⠏\u001b[1G\u001b[0K  run `npm fund` for details\n",
            "\u001b[1G\u001b[0K⠏\u001b[1G\u001b[0K🎉 Your Permanent URL: NgrokTunnel: \"https://ea8d-34-169-129-77.ngrok-free.app\" -> \"http://localhost:8501\"\n"
          ]
        }
      ]
    },
    {
      "cell_type": "code",
      "source": [
        "print(\"Build a Python Website in 15 Minutes With Streamlit\")\n",
        "!pip install -q streamlit\n",
        "!pip install pyngrok\n",
        "!npm install -g localtunnel\n",
        "\n",
        "import streamlit as st\n",
        "%%writefile app.py\n",
        "\n",
        "import streamlit as st\n",
        "\n",
        "st.set_page_config(page_title=\"My Website\", layout=\"centered\")\n",
        "\n",
        "# Sidebar Navigation\n",
        "page = st.sidebar.selectbox(\"Navigate\", [\"Home\", \"About\", \"Contact\"])\n",
        "\n",
        "# Home Page\n",
        "if page == \"Home\":\n",
        "    st.title(\"🏠 Welcome to My Website\")\n",
        "    st.write(\"This is a simple Python website built using Streamlit on Google Colab!\")\n",
        "\n",
        "# About Page\n",
        "elif page == \"About\":\n",
        "    st.title(\"ℹ️ About\")\n",
        "    st.write(\"This is a demo multi-page site.\")\n",
        "    st.write(\"Built using Python, Streamlit and hosted via ngrok on Colab.\")\n",
        "\n",
        "# Contact Page\n",
        "elif page == \"Contact\":\n",
        "    st.title(\"📞 Contact\")\n",
        "    st.write(\"You can reach me at: example@email.com\")\n",
        "    st.text_input(\"Your Name\")\n",
        "    st.text_input(\"Your Email\")\n",
        "    st.text_area(\"Your Message\")\n",
        "    st.button(\"Send\")\n",
        "\n",
        ""
      ],
      "metadata": {
        "colab": {
          "base_uri": "https://localhost:8080/"
        },
        "collapsed": true,
        "id": "m1cKykZaXaUM",
        "outputId": "e6064378-f8d8-47a1-eb46-c763a0c4fbb2"
      },
      "execution_count": 47,
      "outputs": [
        {
          "output_type": "stream",
          "name": "stdout",
          "text": [
            "Build a Python Website in 15 Minutes With Streamlit\n",
            "Requirement already satisfied: pyngrok in /usr/local/lib/python3.11/dist-packages (7.2.5)\n",
            "Requirement already satisfied: PyYAML>=5.1 in /usr/local/lib/python3.11/dist-packages (from pyngrok) (6.0.2)\n",
            "\u001b[1G\u001b[0K⠙\u001b[1G\u001b[0K⠹\u001b[1G\u001b[0K⠸\u001b[1G\u001b[0K⠼\u001b[1G\u001b[0K⠴\u001b[1G\u001b[0K⠦\u001b[1G\u001b[0K⠧\u001b[1G\u001b[0K⠇\u001b[1G\u001b[0K⠏\u001b[1G\u001b[0K⠋\u001b[1G\u001b[0K⠙\u001b[1G\u001b[0K⠹\u001b[1G\u001b[0K⠸\u001b[1G\u001b[0K⠼\u001b[1G\u001b[0K⠴\u001b[1G\u001b[0K⠦\u001b[1G\u001b[0K⠧\u001b[1G\u001b[0K⠇\u001b[1G\u001b[0K⠏\u001b[1G\u001b[0K\n",
            "changed 22 packages in 2s\n",
            "\u001b[1G\u001b[0K⠏\u001b[1G\u001b[0K\n",
            "\u001b[1G\u001b[0K⠏\u001b[1G\u001b[0K3 packages are looking for funding\n",
            "\u001b[1G\u001b[0K⠏\u001b[1G\u001b[0K  run `npm fund` for details\n",
            "\u001b[1G\u001b[0K⠏\u001b[1G\u001b[0K"
          ]
        },
        {
          "output_type": "stream",
          "name": "stderr",
          "text": [
            "2025-04-24 20:25:46.404 Thread 'MainThread': missing ScriptRunContext! This warning can be ignored when running in bare mode.\n",
            "2025-04-24 20:25:46.405 Thread 'MainThread': missing ScriptRunContext! This warning can be ignored when running in bare mode.\n",
            "2025-04-24 20:25:46.406 Thread 'MainThread': missing ScriptRunContext! This warning can be ignored when running in bare mode.\n",
            "2025-04-24 20:25:46.407 Thread 'MainThread': missing ScriptRunContext! This warning can be ignored when running in bare mode.\n",
            "2025-04-24 20:25:46.408 Thread 'MainThread': missing ScriptRunContext! This warning can be ignored when running in bare mode.\n",
            "2025-04-24 20:25:46.409 Thread 'MainThread': missing ScriptRunContext! This warning can be ignored when running in bare mode.\n",
            "2025-04-24 20:25:46.410 Thread 'MainThread': missing ScriptRunContext! This warning can be ignored when running in bare mode.\n",
            "2025-04-24 20:25:46.411 Thread 'MainThread': missing ScriptRunContext! This warning can be ignored when running in bare mode.\n",
            "2025-04-24 20:25:46.412 Thread 'MainThread': missing ScriptRunContext! This warning can be ignored when running in bare mode.\n",
            "2025-04-24 20:25:46.413 Thread 'MainThread': missing ScriptRunContext! This warning can be ignored when running in bare mode.\n",
            "2025-04-24 20:25:46.414 Thread 'MainThread': missing ScriptRunContext! This warning can be ignored when running in bare mode.\n",
            "2025-04-24 20:25:46.415 Thread 'MainThread': missing ScriptRunContext! This warning can be ignored when running in bare mode.\n",
            "2025-04-24 20:25:46.415 Thread 'MainThread': missing ScriptRunContext! This warning can be ignored when running in bare mode.\n"
          ]
        },
        {
          "output_type": "stream",
          "name": "stdout",
          "text": [
            "^C\n",
            "🎉 Your URL: NgrokTunnel: \"https://d4bd-34-169-129-77.ngrok-free.app\" -> \"http://localhost:8501\"\n"
          ]
        }
      ]
    },
    {
      "cell_type": "code",
      "source": [
        "from pyngrok import ngrok, conf\n",
        "import time\n",
        "import os\n",
        "\n",
        "# ✅ Set your actual token here again (even if already configured before)\n",
        "conf.get_default().auth_token = \"2w0SEsBNrl2NHhqvORGY5tbKj3k_7wuNVm9h3psFHa8LpVobv\"\n",
        "\n",
        "# Run Streamlit in the background\n",
        "!streamlit run app.py &>/content/log.txt &\n",
        "\n",
        "# Wait for server to start\n",
        "time.sleep(5)\n",
        "\n",
        "# Create public URL via ngrok\n",
        "public_url = ngrok.connect(8501)\n",
        "print(f\"✅ Streamlit App URL: {public_url}\")\n"
      ],
      "metadata": {
        "colab": {
          "base_uri": "https://localhost:8080/"
        },
        "id": "xMyAJjPLfqHX",
        "outputId": "6ccc5272-8fc1-4778-e60d-1ae821a2e09a"
      },
      "execution_count": 50,
      "outputs": [
        {
          "output_type": "stream",
          "name": "stdout",
          "text": [
            "✅ Streamlit App URL: NgrokTunnel: \"https://5f26-34-169-129-77.ngrok-free.app\" -> \"http://localhost:8501\"\n"
          ]
        }
      ]
    }
  ]
}