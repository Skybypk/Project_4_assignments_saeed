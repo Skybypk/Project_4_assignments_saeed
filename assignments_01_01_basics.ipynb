{
  "nbformat": 4,
  "nbformat_minor": 0,
  "metadata": {
    "colab": {
      "provenance": [],
      "authorship_tag": "ABX9TyMaMPKEuH5uudco3kkM+dpR",
      "include_colab_link": true
    },
    "kernelspec": {
      "name": "python3",
      "display_name": "Python 3"
    },
    "language_info": {
      "name": "python"
    }
  },
  "cells": [
    {
      "cell_type": "markdown",
      "metadata": {
        "id": "view-in-github",
        "colab_type": "text"
      },
      "source": [
        "<a href=\"https://colab.research.google.com/github/Skybypk/Project_4_assignments_saeed/blob/main/assignments_01_01_basics.ipynb\" target=\"_parent\"><img src=\"https://colab.research.google.com/assets/colab-badge.svg\" alt=\"Open In Colab\"/></a>"
      ]
    },
    {
      "cell_type": "code",
      "execution_count": 1,
      "metadata": {
        "colab": {
          "base_uri": "https://localhost:8080/"
        },
        "id": "-iv2AK6AO63p",
        "outputId": "1dd363c5-5899-4750-b5a3-7405d8166339"
      },
      "outputs": [
        {
          "output_type": "stream",
          "name": "stdout",
          "text": [
            "00_joke_bot\n",
            "What do you want? mango\n",
            "Sorry I only tell jokes\n"
          ]
        }
      ],
      "source": [
        "print(\"00_joke_bot\")\n",
        "PROMPT = \"What do you want? \"\n",
        "JOKE = \"Here is a joke for you! Panaversity GPT - Sophia is heading out to the grocery store. A programmer tells her: get a liter of milk, and if they have eggs, get 12. Sophia returns with 13 liters of milk. The programmer asks why and Sophia replies: 'because they had eggs'\"\n",
        "SORRY = \"Sorry I only tell jokes\"\n",
        "\n",
        "def main():\n",
        "    user_input = input(PROMPT)\n",
        "    if user_input == \"Joke\":\n",
        "        print(JOKE)\n",
        "    else:\n",
        "        print(SORRY)\n",
        "\n",
        "# Required to run the main function\n",
        "if __name__ == '__main__':\n",
        "    main()\n",
        "\n"
      ]
    },
    {
      "cell_type": "code",
      "source": [
        "print(\"01_double_it\")\n",
        "def main():\n",
        "    # User se input lena\n",
        "    curr_value = int(input(\"Enter a number: \"))\n",
        "\n",
        "    # Pehli doubling\n",
        "    curr_value = curr_value * 2\n",
        "\n",
        "    # Jab tak value 100 se choti hai, tab tak print aur double karte raho\n",
        "    while curr_value < 100:\n",
        "        print(curr_value, end=' ')\n",
        "        curr_value = curr_value * 2\n",
        "\n",
        "    # Jab last value 100 ya zyada ho jaye, usay bhi print karo\n",
        "    print(curr_value)\n",
        "\n",
        "# Required to run the main function\n",
        "if __name__ == '__main__':\n",
        "    main()\n"
      ],
      "metadata": {
        "colab": {
          "base_uri": "https://localhost:8080/"
        },
        "id": "TzJWVyGUQR52",
        "outputId": "d2356e20-78ff-4b1c-d64d-8c355c04ee1d"
      },
      "execution_count": 2,
      "outputs": [
        {
          "output_type": "stream",
          "name": "stdout",
          "text": [
            "01_double_it\n",
            "Enter a number: 7\n",
            "14 28 56 112\n"
          ]
        }
      ]
    },
    {
      "cell_type": "code",
      "source": [
        "print(\"02_liftoff\")\n",
        "def main():\n",
        "    # Countdown from 10 to 1 using a for loop\n",
        "    for i in range(10):\n",
        "        print(10 - i, end=' ')\n",
        "\n",
        "    # After the countdown, print \"Liftoff!\"\n",
        "    print(\"Liftoff!\")\n",
        "\n",
        "# Required to run the main function\n",
        "if __name__ == '__main__':\n",
        "    main()\n"
      ],
      "metadata": {
        "colab": {
          "base_uri": "https://localhost:8080/"
        },
        "id": "V4gRrVQaQ7NC",
        "outputId": "a169808b-7a52-45b3-9642-13b1b3420746"
      },
      "execution_count": 3,
      "outputs": [
        {
          "output_type": "stream",
          "name": "stdout",
          "text": [
            "02_liftoff\n",
            "10 9 8 7 6 5 4 3 2 1 Liftoff!\n"
          ]
        }
      ]
    },
    {
      "cell_type": "code",
      "source": [
        "print(\"03_guess_my_number\")\n",
        "import random\n",
        "\n",
        "def main():\n",
        "    # Random number between 0 and 99\n",
        "    secret_number = random.randint(0, 99)\n",
        "\n",
        "    print(\"I am thinking of a number between 0 and 99...\")\n",
        "\n",
        "    # First guess\n",
        "    guess = int(input(\"Enter a guess: \"))\n",
        "\n",
        "    # Keep asking until the guess is correct\n",
        "    while guess != secret_number:\n",
        "        if guess > secret_number:\n",
        "            print(\"Your guess is too high\")\n",
        "        else:\n",
        "            print(\"Your guess is too low\")\n",
        "        guess = int(input(\"Enter a new number: \"))\n",
        "\n",
        "    # Correct guess\n",
        "    print(f\"Congrats! The number was: {secret_number}\")\n",
        "\n",
        "# Required to run the main function\n",
        "if __name__ == '__main__':\n",
        "    main()\n"
      ],
      "metadata": {
        "colab": {
          "base_uri": "https://localhost:8080/"
        },
        "id": "lgrS2nEpRVGa",
        "outputId": "6affce9e-b600-40c5-ca30-9bddd34821bb"
      },
      "execution_count": 4,
      "outputs": [
        {
          "output_type": "stream",
          "name": "stdout",
          "text": [
            "03_guess_my_number\n",
            "I am thinking of a number between 0 and 99...\n",
            "Enter a guess: 79\n",
            "Your guess is too high\n",
            "Enter a new number: 48\n",
            "Your guess is too high\n",
            "Enter a new number: 29\n",
            "Your guess is too low\n",
            "Enter a new number: 33\n",
            "Your guess is too high\n",
            "Enter a new number: 30\n",
            "Your guess is too low\n",
            "Enter a new number: 29\n",
            "Your guess is too low\n",
            "Enter a new number: 28\n",
            "Your guess is too low\n",
            "Enter a new number: 31\n",
            "Congrats! The number was: 31\n"
          ]
        }
      ]
    },
    {
      "cell_type": "code",
      "source": [
        "print(\"04_random_numbers\")\n",
        "import random\n",
        "\n",
        "N_NUMBERS: int = 10\n",
        "MIN_VALUE: int = 1\n",
        "MAX_VALUE: int = 100\n",
        "\n",
        "def main():\n",
        "    for _ in range(N_NUMBERS):\n",
        "        value = random.randint(MIN_VALUE, MAX_VALUE)\n",
        "        print(value, end=' ')\n",
        "    print()  # Newline after printing all numbers\n",
        "\n",
        "if __name__ == '__main__':\n",
        "    main()\n"
      ],
      "metadata": {
        "colab": {
          "base_uri": "https://localhost:8080/"
        },
        "id": "xeXEGy3uSRyA",
        "outputId": "2b92e4d8-769f-4eb3-f93a-b87f524ab933"
      },
      "execution_count": 5,
      "outputs": [
        {
          "output_type": "stream",
          "name": "stdout",
          "text": [
            "04_random_numbers\n",
            "44 57 55 47 54 79 89 60 65 67 \n"
          ]
        }
      ]
    }
  ]
}