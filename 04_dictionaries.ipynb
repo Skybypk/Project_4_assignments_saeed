{
  "nbformat": 4,
  "nbformat_minor": 0,
  "metadata": {
    "colab": {
      "provenance": [],
      "authorship_tag": "ABX9TyMqAA3xs2cY23aNGrY9p5rs",
      "include_colab_link": true
    },
    "kernelspec": {
      "name": "python3",
      "display_name": "Python 3"
    },
    "language_info": {
      "name": "python"
    }
  },
  "cells": [
    {
      "cell_type": "markdown",
      "metadata": {
        "id": "view-in-github",
        "colab_type": "text"
      },
      "source": [
        "<a href=\"https://colab.research.google.com/github/Skybypk/Project_4_assignments_saeed/blob/main/04_dictionaries.ipynb\" target=\"_parent\"><img src=\"https://colab.research.google.com/assets/colab-badge.svg\" alt=\"Open In Colab\"/></a>"
      ]
    },
    {
      "cell_type": "code",
      "execution_count": 1,
      "metadata": {
        "colab": {
          "base_uri": "https://localhost:8080/"
        },
        "id": "anpN3MbTflo4",
        "outputId": "d768b5e5-5bd6-41e9-a3dc-1110666ee601"
      },
      "outputs": [
        {
          "output_type": "stream",
          "name": "stdout",
          "text": [
            "00_count_nums\n",
            "Enter a number (or press Enter to finish): 50\n",
            "Enter a number (or press Enter to finish): 1\n",
            "Enter a number (or press Enter to finish): 12\n",
            "Enter a number (or press Enter to finish): 14\n",
            "Enter a number (or press Enter to finish): 16\n",
            "Enter a number (or press Enter to finish): \n",
            "50 appears 1 times.\n",
            "1 appears 1 times.\n",
            "12 appears 1 times.\n",
            "14 appears 1 times.\n",
            "16 appears 1 times.\n"
          ]
        }
      ],
      "source": [
        "print(\"00_count_nums\")\n",
        "def main():\n",
        "    counts = {}  # Dictionary to store number -> count\n",
        "\n",
        "    while True:\n",
        "        user_input = input(\"Enter a number (or press Enter to finish): \")\n",
        "        if user_input == \"\":\n",
        "            break  # Exit the loop if input is empty\n",
        "\n",
        "        number = int(user_input)  # Convert to int\n",
        "        if number in counts:\n",
        "            counts[number] += 1\n",
        "        else:\n",
        "            counts[number] = 1\n",
        "\n",
        "    # Print results\n",
        "    for number in counts:\n",
        "        print(f\"{number} appears {counts[number]} times.\")\n",
        "\n",
        "\n",
        "# This provided line is required at the end of\n",
        "# Python file to call the main() function.\n",
        "if __name__ == '__main__':\n",
        "    main()\n"
      ]
    },
    {
      "cell_type": "code",
      "source": [
        "print(\"01_phonebook\")\n",
        "def main():\n",
        "    phonebook = {}  # empty dictionary to store contacts\n",
        "\n",
        "    while True:\n",
        "        print(\"\\nPhonebook Menu:\")\n",
        "        print(\"1. Add Contact\")\n",
        "        print(\"2. Search Contact\")\n",
        "        print(\"3. Show All Contacts\")\n",
        "        print(\"4. Exit\")\n",
        "\n",
        "        choice = input(\"Enter your choice (1-4): \")\n",
        "\n",
        "        if choice == '1':\n",
        "            name = input(\"Enter name: \")\n",
        "            number = input(\"Enter phone number: \")\n",
        "            phonebook[name] = number\n",
        "            print(f\"{name} added successfully!\")\n",
        "\n",
        "        elif choice == '2':\n",
        "            name = input(\"Enter name to search: \")\n",
        "            if name in phonebook:\n",
        "                print(f\"{name}'s number is {phonebook[name]}\")\n",
        "            else:\n",
        "                print(f\"{name} not found in the phonebook.\")\n",
        "\n",
        "        elif choice == '3':\n",
        "            if not phonebook:\n",
        "                print(\"Phonebook is empty.\")\n",
        "            else:\n",
        "                print(\"\\nContacts:\")\n",
        "                for name, number in phonebook.items():\n",
        "                    print(f\"{name}: {number}\")\n",
        "\n",
        "        elif choice == '4':\n",
        "            print(\"Exiting phonebook. Goodbye!\")\n",
        "            break\n",
        "\n",
        "        else:\n",
        "            print(\"Invalid choice. Please select 1-4.\")\n",
        "\n",
        "# This provided line is required at the end of\n",
        "# Python file to call the main() function.\n",
        "if __name__ == '__main__':\n",
        "    main()\n"
      ],
      "metadata": {
        "colab": {
          "base_uri": "https://localhost:8080/"
        },
        "id": "LLI8OxpYgY83",
        "outputId": "a9417f91-a8b0-471a-c343-6d013fbfcc55"
      },
      "execution_count": 2,
      "outputs": [
        {
          "output_type": "stream",
          "name": "stdout",
          "text": [
            "01_phonebook\n",
            "\n",
            "Phonebook Menu:\n",
            "1. Add Contact\n",
            "2. Search Contact\n",
            "3. Show All Contacts\n",
            "4. Exit\n",
            "Enter your choice (1-4): 3\n",
            "Phonebook is empty.\n",
            "\n",
            "Phonebook Menu:\n",
            "1. Add Contact\n",
            "2. Search Contact\n",
            "3. Show All Contacts\n",
            "4. Exit\n",
            "Enter your choice (1-4): 2\n",
            "Enter name to search: 1\n",
            "1 not found in the phonebook.\n",
            "\n",
            "Phonebook Menu:\n",
            "1. Add Contact\n",
            "2. Search Contact\n",
            "3. Show All Contacts\n",
            "4. Exit\n",
            "Enter your choice (1-4): 4\n",
            "Exiting phonebook. Goodbye!\n"
          ]
        }
      ]
    },
    {
      "cell_type": "code",
      "source": [
        "print(\"02_pop_up_shop\")\n",
        "def main():\n",
        "    # Fruit prices per item\n",
        "    fruits = {\n",
        "        \"apple\": 10.5,\n",
        "        \"durian\": 25.0,\n",
        "        \"jackfruit\": 15.0,\n",
        "        \"kiwi\": 12.0,\n",
        "        \"rambutan\": 8.0,\n",
        "        \"mango\": 9.5\n",
        "    }\n",
        "\n",
        "    total = 0.0\n",
        "\n",
        "    for fruit, price in fruits.items():\n",
        "        quantity_str = input(f\"How many ({fruit}) do you want?: \")\n",
        "        quantity = int(quantity_str)\n",
        "        total += quantity * price\n",
        "\n",
        "    print(f\"\\nYour total is ${total}\")\n",
        "\n",
        "# This provided line is required at the end of\n",
        "# Python file to call the main() function.\n",
        "if __name__ == '__main__':\n",
        "    main()\n"
      ],
      "metadata": {
        "colab": {
          "base_uri": "https://localhost:8080/"
        },
        "id": "2jLfqGdShAbJ",
        "outputId": "2e72024b-dc1c-406f-c589-5bf4b3505ee2"
      },
      "execution_count": 3,
      "outputs": [
        {
          "output_type": "stream",
          "name": "stdout",
          "text": [
            "02_pop_up_shop\n",
            "How many (apple) do you want?: 1\n",
            "How many (durian) do you want?: 1\n",
            "How many (jackfruit) do you want?: 1\n",
            "How many (kiwi) do you want?: 2\n",
            "How many (rambutan) do you want?: 1\n",
            "How many (mango) do you want?: 5\n",
            "\n",
            "Your total is $130.0\n"
          ]
        }
      ]
    },
    {
      "cell_type": "code",
      "source": [
        "print(\"03_powerful_passwords\")\n",
        "import hashlib\n",
        "\n",
        "# This function converts the password into a SHA-256 hash\n",
        "def hash_password(password):\n",
        "    return hashlib.sha256(password.encode()).hexdigest()\n",
        "\n",
        "# A dictionary that stores emails and their hashed passwords\n",
        "stored_logins = {\n",
        "    'saeed@example.com': hash_password('my_secure_password'),\n",
        "    'john@example.com': hash_password('hello123'),\n",
        "    'alice@example.com': hash_password('alice_pass'),\n",
        "}\n",
        "\n",
        "# This function checks if the given password (after hashing) matches the stored hash\n",
        "def login(email, password_to_check):\n",
        "    if email in stored_logins:\n",
        "        return stored_logins[email] == hash_password(password_to_check)\n",
        "    else:\n",
        "        return False\n",
        "\n",
        "def main():\n",
        "    # Test cases\n",
        "    print(login('saeed@example.com', 'my_secure_password'))  # True\n",
        "    print(login('john@example.com', 'wrong_pass'))           # False\n",
        "    print(login('unknown@example.com', 'test'))              # False\n",
        "    print(login('alice@example.com', 'alice_pass'))          # True\n",
        "\n",
        "# This provided line is required at the end of\n",
        "# Python file to call the main() function.\n",
        "if __name__ == '__main__':\n",
        "    main()\n",
        "\n"
      ],
      "metadata": {
        "colab": {
          "base_uri": "https://localhost:8080/"
        },
        "id": "O7tjB1iqhnCz",
        "outputId": "a45f5651-6f81-4da9-b61c-7711678a3384"
      },
      "execution_count": 4,
      "outputs": [
        {
          "output_type": "stream",
          "name": "stdout",
          "text": [
            "03_powerful_passwords\n",
            "True\n",
            "False\n",
            "False\n",
            "True\n"
          ]
        }
      ]
    }
  ]
}