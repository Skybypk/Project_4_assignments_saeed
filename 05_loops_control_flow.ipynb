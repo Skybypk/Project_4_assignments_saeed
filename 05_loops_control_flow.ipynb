{
  "nbformat": 4,
  "nbformat_minor": 0,
  "metadata": {
    "colab": {
      "provenance": [],
      "authorship_tag": "ABX9TyP/5R7RLYfqMEIX94Eeq2Iy",
      "include_colab_link": true
    },
    "kernelspec": {
      "name": "python3",
      "display_name": "Python 3"
    },
    "language_info": {
      "name": "python"
    }
  },
  "cells": [
    {
      "cell_type": "markdown",
      "metadata": {
        "id": "view-in-github",
        "colab_type": "text"
      },
      "source": [
        "<a href=\"https://colab.research.google.com/github/Skybypk/Project_4_assignments_saeed/blob/main/05_loops_control_flow.ipynb\" target=\"_parent\"><img src=\"https://colab.research.google.com/assets/colab-badge.svg\" alt=\"Open In Colab\"/></a>"
      ]
    },
    {
      "cell_type": "code",
      "source": [
        "print(\"00_guess_my_number\")\n",
        "import random\n",
        "import sys\n",
        "from threading import Timer\n",
        "\n",
        "def timeout_handler():\n",
        "    print(\"\\n⏰ Time's up! No response received for 30 seconds.\")\n",
        "    sys.exit(1)\n",
        "\n",
        "def main():\n",
        "    secret_number = random.randint(0, 99)\n",
        "    attempts = 0\n",
        "    max_attempts = 7\n",
        "\n",
        "    print(\"Welcome to 'Guess My Number'!\")\n",
        "    print(f\"I'm thinking of a number between 0-99. You have {max_attempts} tries.\\n\")\n",
        "\n",
        "    while attempts < max_attempts:\n",
        "        # Set 30-second timeout timer\n",
        "        timer = Timer(30, timeout_handler)\n",
        "        timer.start()\n",
        "\n",
        "        try:\n",
        "            user_input = input(f\"Attempt {attempts+1}/{max_attempts}: \")\n",
        "            timer.cancel()  # Cancel timer if input received\n",
        "\n",
        "            guess = int(user_input)\n",
        "\n",
        "            if guess == secret_number:\n",
        "                print(f\"\\n🎉 Correct! You won in {attempts+1} guesses!\")\n",
        "                print(f\"The number was {secret_number}.\")\n",
        "                return\n",
        "            elif guess < 0 or guess > 99:\n",
        "                print(\"Please enter 0-99 only!\")\n",
        "            elif guess > secret_number:\n",
        "                print(\"Too high!\")\n",
        "            else:\n",
        "                print(\"Too low!\")\n",
        "\n",
        "            attempts += 1\n",
        "\n",
        "        except ValueError:\n",
        "            print(\"Numbers only please!\")\n",
        "            timer.cancel()\n",
        "\n",
        "    print(f\"\\n💔 Game over! The number was {secret_number}.\")\n",
        "\n",
        "if __name__ == '__main__':\n",
        "    main()"
      ],
      "metadata": {
        "id": "zphakQKPoZMR",
        "colab": {
          "base_uri": "https://localhost:8080/"
        },
        "outputId": "29b8d9b6-9aff-43ca-abcb-76b4d1334243"
      },
      "execution_count": 1,
      "outputs": [
        {
          "output_type": "stream",
          "name": "stdout",
          "text": [
            "00_guess_my_number\n",
            "Welcome to 'Guess My Number'!\n",
            "I'm thinking of a number between 0-99. You have 7 tries.\n",
            "\n",
            "Attempt 1/7: 48\n",
            "Too low!\n",
            "Attempt 2/7: 99\n",
            "Too high!\n",
            "Attempt 3/7: 55\n",
            "Too high!\n",
            "Attempt 4/7: 51\n",
            "Too high!\n",
            "Attempt 5/7: 47\n",
            "Too low!\n",
            "Attempt 6/7: 50\n",
            "Too high!\n",
            "Attempt 7/7: 49\n",
            "\n",
            "🎉 Correct! You won in 7 guesses!\n",
            "The number was 49.\n"
          ]
        }
      ]
    },
    {
      "cell_type": "code",
      "source": [
        "print(\"01_fibonacci\")\n",
        "def main():\n",
        "    # Constant for maximum value\n",
        "    MAX_VALUE = 10000\n",
        "\n",
        "    # Starting values for Fibonacci sequence\n",
        "    a = 0\n",
        "    b = 1\n",
        "\n",
        "    # Print first number\n",
        "    print(a, end=' ')\n",
        "\n",
        "    # Generate and print Fibonacci terms\n",
        "    while b < MAX_VALUE:\n",
        "        print(b, end=' ')\n",
        "        a, b = b, a + b\n",
        "\n",
        "    print()  # For a clean newline at the end\n",
        "\n",
        "# This provided line is required at the end of\n",
        "# Python file to call the main() function.\n",
        "if __name__ == '__main__':\n",
        "    main()\n"
      ],
      "metadata": {
        "colab": {
          "base_uri": "https://localhost:8080/"
        },
        "id": "cSPfRiDS8tyx",
        "outputId": "2888a363-ee9c-4781-b3a9-644b95fb4ea3"
      },
      "execution_count": 2,
      "outputs": [
        {
          "output_type": "stream",
          "name": "stdout",
          "text": [
            "01_fibonacci\n",
            "0 1 1 2 3 5 8 13 21 34 55 89 144 233 377 610 987 1597 2584 4181 6765 \n"
          ]
        }
      ]
    },
    {
      "cell_type": "code",
      "source": [
        "print(\"02_print_events\")\n",
        "def main():\n",
        "    # Loop to print first 20 even numbers\n",
        "    for i in range(20):\n",
        "        print(i * 2, end=' ')\n",
        "    print()  # For a clean newline after output\n",
        "\n",
        "# This provided line is required at the end of\n",
        "# Python file to call the main() function.\n",
        "if __name__ == '__main__':\n",
        "    main()\n",
        "\n",
        "#Solution\n",
        "def main():\n",
        "    # This for-loop start at 0 and counts up to 19 (for a total of 20 numbers)\n",
        "    for i in range(20):\n",
        "        print(i * 2)  # Use the 'i' value inside the for-loop\n",
        "\n",
        "# Call the main function when \"run\", no need to edit anything below!\n",
        "if __name__ == \"__main__\":\n",
        "    main()\n",
        ""
      ],
      "metadata": {
        "colab": {
          "base_uri": "https://localhost:8080/"
        },
        "id": "G0vo0cPC9VHP",
        "outputId": "f45fed40-64b7-4c6b-e287-6fad9e63a32a"
      },
      "execution_count": 3,
      "outputs": [
        {
          "output_type": "stream",
          "name": "stdout",
          "text": [
            "02_print_events\n",
            "0 2 4 6 8 10 12 14 16 18 20 22 24 26 28 30 32 34 36 38 \n",
            "0\n",
            "2\n",
            "4\n",
            "6\n",
            "8\n",
            "10\n",
            "12\n",
            "14\n",
            "16\n",
            "18\n",
            "20\n",
            "22\n",
            "24\n",
            "26\n",
            "28\n",
            "30\n",
            "32\n",
            "34\n",
            "36\n",
            "38\n"
          ]
        }
      ]
    },
    {
      "cell_type": "code",
      "source": [
        "print(\"03_wholesome_machine\")\n",
        "def main():\n",
        "    affirmation = \"I am capable of doing anything I put my mind to.\"\n",
        "\n",
        "    print(\"Please type the following affirmation: \" + affirmation)\n",
        "    user_input = input()\n",
        "\n",
        "    while user_input != affirmation:\n",
        "        print(\"Hmmm That was not the affirmation.\")\n",
        "        print(\"Please type the following affirmation: \" + affirmation)\n",
        "        user_input = input()\n",
        "\n",
        "    print(\"That's right! :)\")\n",
        "\n",
        "# This provided line is required at the end of\n",
        "# Python file to call the main() function.\n",
        "if __name__ == '__main__':\n",
        "    main()\n"
      ],
      "metadata": {
        "colab": {
          "base_uri": "https://localhost:8080/"
        },
        "id": "kyrS1In8-uIx",
        "outputId": "23973650-8f62-465e-c598-6074dd755e46"
      },
      "execution_count": 5,
      "outputs": [
        {
          "output_type": "stream",
          "name": "stdout",
          "text": [
            "03_wholesome_machine\n",
            "Please type the following affirmation: I am capable of doing anything I put my mind to.\n",
            "I am capable of doing anything I put my mind to.\n",
            "That's right! :)\n"
          ]
        }
      ]
    },
    {
      "cell_type": "code",
      "source": [
        "print(\"04_liftoff\")\n",
        "def main():\n",
        "    for i in range(10, 0, -1):  # Start at 10, end at 1 (inclusive), step -1\n",
        "        print(i, end=' ')\n",
        "    print(\"Liftoff!\")  # After countdown ends\n",
        "\n",
        "# This provided line is required at the end of\n",
        "# Python file to call the main() function.\n",
        "if __name__ == '__main__':\n",
        "    main()\n"
      ],
      "metadata": {
        "colab": {
          "base_uri": "https://localhost:8080/"
        },
        "id": "y-SV6AiV_Lva",
        "outputId": "10c60914-8810-42c7-8cb1-50745c9034c2"
      },
      "execution_count": 6,
      "outputs": [
        {
          "output_type": "stream",
          "name": "stdout",
          "text": [
            "04_liftoff\n",
            "10 9 8 7 6 5 4 3 2 1 Liftoff!\n"
          ]
        }
      ]
    },
    {
      "cell_type": "code",
      "source": [
        "print(\"05_double_it\")\n",
        "def main():\n",
        "    # Ask the user for a starting number\n",
        "    curr_value = int(input(\"Enter a number: \"))\n",
        "\n",
        "    # Continue doubling the value until it's 100 or more\n",
        "    while curr_value < 100:\n",
        "        curr_value = curr_value * 2\n",
        "        print(curr_value)\n",
        "\n",
        "# This provided line is required at the end of\n",
        "# Python file to call the main() function.\n",
        "if __name__ == '__main__':\n",
        "    main()\n"
      ],
      "metadata": {
        "colab": {
          "base_uri": "https://localhost:8080/"
        },
        "id": "2PuKBfI9_u75",
        "outputId": "98dc7889-1117-46b0-a9a5-bf133e8f1269"
      },
      "execution_count": 7,
      "outputs": [
        {
          "output_type": "stream",
          "name": "stdout",
          "text": [
            "05_double_it\n",
            "Enter a number: 2\n",
            "4\n",
            "8\n",
            "16\n",
            "32\n",
            "64\n",
            "128\n"
          ]
        }
      ]
    }
  ]
}