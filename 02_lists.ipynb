{
  "cells": [
    {
      "cell_type": "markdown",
      "metadata": {
        "id": "view-in-github",
        "colab_type": "text"
      },
      "source": [
        "<a href=\"https://colab.research.google.com/github/Skybypk/Project_4_assignments_saeed/blob/main/02_lists.ipynb\" target=\"_parent\"><img src=\"https://colab.research.google.com/assets/colab-badge.svg\" alt=\"Open In Colab\"/></a>"
      ]
    },
    {
      "cell_type": "code",
      "execution_count": null,
      "metadata": {
        "colab": {
          "base_uri": "https://localhost:8080/"
        },
        "id": "mY1Q1kYHEDa9",
        "outputId": "8a455cb4-ad7a-4c0e-d800-d6f2233820bc"
      },
      "outputs": [
        {
          "name": "stdout",
          "output_type": "stream",
          "text": [
            "01_add_many_number\n",
            "The sum of [5, 10, 15, 20] is: 50\n"
          ]
        }
      ],
      "source": [
        "print(\"01_add_many_number\")\n",
        "def sum_list(numbers):\n",
        "    total = 0\n",
        "    for num in numbers:\n",
        "        total += num\n",
        "    return total\n",
        "\n",
        "def main():\n",
        "    # Example usage of the function\n",
        "    sample_list = [5, 10, 15, 20]\n",
        "    result = sum_list(sample_list)\n",
        "    print(\"The sum of\", sample_list, \"is:\", result)\n",
        "\n",
        "# This provided line is required at the end of\n",
        "# Python file to call the main() function.\n",
        "if __name__ == '__main__':\n",
        "    main()\n",
        "\n",
        "\n"
      ]
    },
    {
      "cell_type": "code",
      "execution_count": null,
      "metadata": {
        "colab": {
          "base_uri": "https://localhost:8080/"
        },
        "id": "vOTz8_HvEgQQ",
        "outputId": "720d915d-55d4-4564-f4f3-1d49f48867a9"
      },
      "outputs": [
        {
          "name": "stdout",
          "output_type": "stream",
          "text": [
            "02_double_list\n",
            "Original list: [1, 2, 3, 4]\n",
            "Doubled list: [2, 4, 6, 8]\n",
            "[2, 4, 6, 8]\n"
          ]
        }
      ],
      "source": [
        "print(\"02_double_list\")\n",
        "def double_numbers(numbers):\n",
        "    for i in range(len(numbers)):\n",
        "        numbers[i] *= 2\n",
        "    return numbers\n",
        "\n",
        "def main():\n",
        "    numbers = [1, 2, 3, 4]\n",
        "    print(\"Original list:\", numbers)\n",
        "    doubled = double_numbers(numbers)\n",
        "    print(\"Doubled list:\", doubled)\n",
        "\n",
        "# This provided line is required at the end of\n",
        "# Python file to call the main() function.\n",
        "if __name__ == '__main__':\n",
        "    main()\n",
        "\n",
        "\n",
        "# Solution\n",
        "def main():\n",
        "    numbers: list[int] = [1, 2, 3, 4]  # Creates a list of numbers\n",
        "\n",
        "    for i in range(len(numbers)):  # Loop through the indices of the list\n",
        "        elem_at_index = numbers[i]  # Get the element at index i in the numbers list\n",
        "        numbers[i] = elem_at_index * 2  # Set the element at index i to be equal to the previous element times 2\n",
        "\n",
        "    print(numbers)  # This should print the doubled list\n",
        "\n",
        "\n",
        "# There is no need to edit code beyond this point\n",
        "\n",
        "if __name__ == '__main__':\n",
        "    main()\n"
      ]
    },
    {
      "cell_type": "code",
      "execution_count": null,
      "metadata": {
        "colab": {
          "base_uri": "https://localhost:8080/"
        },
        "id": "4RsPKXyUFPP3",
        "outputId": "69399a1f-d0b8-496c-d367-8c097c06fe13"
      },
      "outputs": [
        {
          "name": "stdout",
          "output_type": "stream",
          "text": [
            "04_flowing_with_data_structures\n",
            "Enter message to copy: av\n",
            "Before List: []\n",
            "After List: ['av', 'av', 'av']\n"
          ]
        }
      ],
      "source": [
        "print(\"04_flowing_with_data_structures\")\n",
        "\n",
        "def add_three_copies(lst, data):\n",
        "    for i in range(3):\n",
        "        lst.append(data)\n",
        "\n",
        "def main():\n",
        "    message = input(\"Enter message to copy: \")\n",
        "    lst = []\n",
        "    print(\"Before List:\", lst)\n",
        "    add_three_copies(lst, message)\n",
        "    print(\"After List:\", lst)\n",
        "\n",
        "if __name__ == \"__main__\":\n",
        "    main()\n",
        "\n",
        "\n"
      ]
    },
    {
      "cell_type": "code",
      "execution_count": null,
      "metadata": {
        "colab": {
          "base_uri": "https://localhost:8080/",
          "height": 130,
          "referenced_widgets": [
            "5d6a4711c7114fd8a6869b44456a42aa",
            "a9dc10626a0948f192b0ea6377eb828e",
            "a38baf23416e44ca8f153d2e0ebf48ea",
            "bfc4ccec036c4b80a4f86aa546ba97d0",
            "b1c984fea04d49fc8e991ad9c124bbee",
            "58b4c1b4cf434de4a11d2bba6f84bd0c",
            "8ec0a1527a8042c899350a20226bc9ee",
            "48679190f92944b4bc1e58b1b3c26764",
            "6b5fa1043c914da8a5a45d60e5f21a54",
            "a7dcd9c2b84342f9a6c061e82fb8644d",
            "ce98917f063b4f7681115f350af2177e"
          ]
        },
        "id": "gtDxBaZEFSGT",
        "outputId": "2ae80453-6e13-4e22-dbf3-3fa49d9e7a26"
      },
      "outputs": [
        {
          "name": "stdout",
          "output_type": "stream",
          "text": [
            "05_get_first_element\n"
          ]
        },
        {
          "data": {
            "application/vnd.jupyter.widget-view+json": {
              "model_id": "5d6a4711c7114fd8a6869b44456a42aa",
              "version_major": 2,
              "version_minor": 0
            },
            "text/plain": [
              "Text(value='', description='Element:', layout=Layout(width='500px'), placeholder='Enter list element and press…"
            ]
          },
          "metadata": {
            "application/vnd.jupyter.widget-view+json": {
              "colab": {
                "custom_widget_manager": {
                  "url": "https://ssl.gstatic.com/colaboratory-static/widgets/colab-cdn-widget-manager/2b70e893a8ba7c0f/manager.min.js"
                }
              }
            }
          },
          "output_type": "display_data"
        },
        {
          "data": {
            "application/vnd.jupyter.widget-view+json": {
              "model_id": "bfc4ccec036c4b80a4f86aa546ba97d0",
              "version_major": 2,
              "version_minor": 0
            },
            "text/plain": [
              "Button(description='Add', style=ButtonStyle())"
            ]
          },
          "metadata": {
            "application/vnd.jupyter.widget-view+json": {
              "colab": {
                "custom_widget_manager": {
                  "url": "https://ssl.gstatic.com/colaboratory-static/widgets/colab-cdn-widget-manager/2b70e893a8ba7c0f/manager.min.js"
                }
              }
            }
          },
          "output_type": "display_data"
        },
        {
          "data": {
            "application/vnd.jupyter.widget-view+json": {
              "model_id": "8ec0a1527a8042c899350a20226bc9ee",
              "version_major": 2,
              "version_minor": 0
            },
            "text/plain": [
              "Button(button_style='success', description='Finish', style=ButtonStyle())"
            ]
          },
          "metadata": {
            "application/vnd.jupyter.widget-view+json": {
              "colab": {
                "custom_widget_manager": {
                  "url": "https://ssl.gstatic.com/colaboratory-static/widgets/colab-cdn-widget-manager/2b70e893a8ba7c0f/manager.min.js"
                }
              }
            }
          },
          "output_type": "display_data"
        },
        {
          "data": {
            "application/vnd.jupyter.widget-view+json": {
              "model_id": "a7dcd9c2b84342f9a6c061e82fb8644d",
              "version_major": 2,
              "version_minor": 0
            },
            "text/plain": [
              "Output()"
            ]
          },
          "metadata": {
            "application/vnd.jupyter.widget-view+json": {
              "colab": {
                "custom_widget_manager": {
                  "url": "https://ssl.gstatic.com/colaboratory-static/widgets/colab-cdn-widget-manager/2b70e893a8ba7c0f/manager.min.js"
                }
              }
            }
          },
          "output_type": "display_data"
        }
      ],
      "source": [
        "print(\"05_get_first_element\")\n",
        "import ipywidgets as widgets\n",
        "from IPython.display import display, clear_output\n",
        "\n",
        "user_list = []\n",
        "\n",
        "# Widgets\n",
        "element_input = widgets.Text(\n",
        "    value='',\n",
        "    placeholder='Enter list element and press \"Add\"',\n",
        "    description='Element:',\n",
        "    layout=widgets.Layout(width='500px')\n",
        ")\n",
        "add_button = widgets.Button(description=\"Add\")\n",
        "done_button = widgets.Button(description=\"Finish\", button_style='success')\n",
        "output = widgets.Output()\n",
        "\n",
        "# Function to add element\n",
        "def add_element(btn):\n",
        "    elem = element_input.value.strip()\n",
        "    if elem == \"\":\n",
        "        with output:\n",
        "            print(\"You entered nothing. Click 'Finish' if done.\")\n",
        "        return\n",
        "    user_list.append(elem)\n",
        "    with output:\n",
        "        print(f\"Added: {elem}\")\n",
        "    element_input.value = \"\"\n",
        "\n",
        "# Function to show list and first element\n",
        "def finish_input(btn):\n",
        "    clear_output()\n",
        "    if user_list:\n",
        "        print(\"Your List:\", user_list)\n",
        "        print(\"First Element:\", user_list[0])\n",
        "    else:\n",
        "        print(\"List is empty. Nothing to display.\")\n",
        "\n",
        "# Bind buttons\n",
        "add_button.on_click(add_element)\n",
        "done_button.on_click(finish_input)\n",
        "\n",
        "# Display interface\n",
        "display(element_input, add_button, done_button, output)\n"
      ]
    },
    {
      "cell_type": "code",
      "execution_count": null,
      "metadata": {
        "colab": {
          "background_save": true,
          "base_uri": "https://localhost:8080/"
        },
        "id": "uOExdwDfFexh",
        "outputId": "05845375-20fe-4aba-ca27-2094f8192794"
      },
      "outputs": [
        {
          "metadata": {
            "tags": null
          },
          "name": "stdout",
          "output_type": "stream",
          "text": [
            "06_get_last_element\n",
            "05\n"
          ]
        }
      ],
      "source": [
        "print(\"06_get_last_element\")\n",
        "def get_last_element(lst):\n",
        "    \"\"\"\n",
        "    Prints the last element of the list.\n",
        "    \"\"\"\n",
        "    print(lst[-1])\n",
        "\n",
        "def get_lst():\n",
        "    \"\"\"\n",
        "    Prompts the user to enter one element of the list at a time and returns the resulting list.\n",
        "    \"\"\"\n",
        "    lst = []\n",
        "    elem = input(\"Please enter an element of the list or press enter to stop: \")\n",
        "    while elem != \"\":\n",
        "        lst.append(elem)\n",
        "        elem = input(\"Please enter an element of the list or press enter to stop: \")\n",
        "    return lst\n",
        "\n",
        "def main():\n",
        "    # Get the list from the user\n",
        "    user_list = get_lst()\n",
        "\n",
        "    # Call the function to print the last element\n",
        "    get_last_element(user_list)\n",
        "\n",
        "# Python boilerplate to call the main function\n",
        "if __name__ == '__main__':\n",
        "    main()\n",
        "\n",
        "#Solution\n",
        "def get_last_element(lst):\n",
        "    \"\"\"\n",
        "    Prints the last element of the provided list.\n",
        "    \"\"\"\n",
        "    # Takes the length of the list and subtracts 1 since lists are zero-indexed\n",
        "    print(lst[len(lst) - 1])\n",
        "    # Or you could just use: print(lst[-1])\n",
        "\n",
        "\n",
        "def get_lst():\n",
        "    \"\"\"\n",
        "    Prompts the user to enter one element of the list at a time and returns the resulting list.\n",
        "    \"\"\"\n",
        "    lst = []\n",
        "    elem = input(\"Please enter an element of the list or press enter to stop. \")\n",
        "    while elem != \"\":\n",
        "        lst.append(elem)\n",
        "        elem = input(\"Please enter an element of the list or press enter to stop. \")\n",
        "    return lst\n",
        "\n",
        "\n",
        "def main():\n",
        "    lst = get_lst()\n",
        "    if len(lst) > 0:\n",
        "        get_last_element(lst)\n",
        "    else:\n",
        "        print(\"The list is empty, no last element to show.\")\n",
        "\n",
        "\n",
        "# This provided line is required at the end of Python file to call the main() function.\n",
        "if __name__ == '__main__':\n",
        "    main()\n"
      ]
    },
    {
      "cell_type": "code",
      "execution_count": null,
      "metadata": {
        "id": "cZX8XwYDFtY0",
        "colab": {
          "base_uri": "https://localhost:8080/"
        },
        "outputId": "82679bd3-c8fe-4113-9267-a882b063233b"
      },
      "outputs": [
        {
          "output_type": "stream",
          "name": "stdout",
          "text": [
            "07_get_list\n",
            "Enter a value: 10\n",
            "Enter a value: 50\n",
            "Enter a value: 30\n",
            "Enter a value: 40\n",
            "Enter a value: 66\n",
            "Enter a value: 58\n",
            "Enter a value: \n",
            "Here's the list: ['10', '50', '30', '40', '66', '58']\n"
          ]
        }
      ],
      "source": [
        "print(\"07_get_list\")\n",
        "def main():\n",
        "    values_list = []  # Initialize an empty list\n",
        "\n",
        "    while True:\n",
        "        value = input(\"Enter a value: \")  # Ask user for input\n",
        "        if value == \"\":  # If user presses Enter without typing anything\n",
        "            break  # Exit the loop\n",
        "        values_list.append(value)  # Add the value to the list\n",
        "\n",
        "    print(\"Here's the list:\", values_list)  # Print the final list\n",
        "\n",
        "# Python boilerplate to call the main function\n",
        "if __name__ == '__main__':\n",
        "    main()\n"
      ]
    },
    {
      "cell_type": "code",
      "execution_count": null,
      "metadata": {
        "id": "TKSNOys5F17B",
        "colab": {
          "base_uri": "https://localhost:8080/"
        },
        "outputId": "c0ebcaa0-9a49-4299-dbfc-7abf0ed817c6"
      },
      "outputs": [
        {
          "output_type": "stream",
          "name": "stdout",
          "text": [
            "08_shorten\n",
            "Enter a value (or press enter to finish): 545\n",
            "Enter a value (or press enter to finish): 545\n",
            "Enter a value (or press enter to finish): 6565\n",
            "Enter a value (or press enter to finish): 25\n",
            "Enter a value (or press enter to finish): 23\n",
            "Enter a value (or press enter to finish): \n",
            "Original list: ['545', '545', '6565', '25', '23']\n",
            "Removed: 23\n",
            "Removed: 25\n",
            "Removed: 6565\n",
            "Shortened list: ['545', '545']\n"
          ]
        }
      ],
      "source": [
        "print(\"08_shorten\")\n",
        "\n",
        "MAX_LENGTH = 3\n",
        "\n",
        "def shorten(lst):\n",
        "\n",
        "    while len(lst) >= MAX_LENGTH:\n",
        "        removed_item = lst.pop()  # Removes the last item\n",
        "        print(\"Removed:\", removed_item)\n",
        "\n",
        "def main():\n",
        "    # Get user input for list elements\n",
        "    lst = []\n",
        "    while True:\n",
        "        item = input(\"Enter a value (or press enter to finish): \")\n",
        "        if item == \"\":\n",
        "            break\n",
        "        lst.append(item)\n",
        "\n",
        "    print(\"Original list:\", lst)\n",
        "    shorten(lst)\n",
        "    print(\"Shortened list:\", lst)\n",
        "\n",
        "\n",
        "# This provided line is required at the end of the Python file\n",
        "if __name__ == '__main__':\n",
        "    main()\n"
      ]
    },
    {
      "cell_type": "code",
      "execution_count": null,
      "metadata": {
        "id": "BOdpaYFqEvgn"
      },
      "outputs": [],
      "source": []
    }
  ],
  "metadata": {
    "colab": {
      "provenance": [],
      "authorship_tag": "ABX9TyP4Dp5EAG61IOHECLA4+Y5c",
      "include_colab_link": true
    },
    "kernelspec": {
      "display_name": "Python 3",
      "name": "python3"
    },
    "language_info": {
      "name": "python"
    },
    "widgets": {
      "application/vnd.jupyter.widget-state+json": {
        "48679190f92944b4bc1e58b1b3c26764": {
          "model_module": "@jupyter-widgets/base",
          "model_module_version": "1.2.0",
          "model_name": "LayoutModel",
          "state": {
            "_model_module": "@jupyter-widgets/base",
            "_model_module_version": "1.2.0",
            "_model_name": "LayoutModel",
            "_view_count": null,
            "_view_module": "@jupyter-widgets/base",
            "_view_module_version": "1.2.0",
            "_view_name": "LayoutView",
            "align_content": null,
            "align_items": null,
            "align_self": null,
            "border": null,
            "bottom": null,
            "display": null,
            "flex": null,
            "flex_flow": null,
            "grid_area": null,
            "grid_auto_columns": null,
            "grid_auto_flow": null,
            "grid_auto_rows": null,
            "grid_column": null,
            "grid_gap": null,
            "grid_row": null,
            "grid_template_areas": null,
            "grid_template_columns": null,
            "grid_template_rows": null,
            "height": null,
            "justify_content": null,
            "justify_items": null,
            "left": null,
            "margin": null,
            "max_height": null,
            "max_width": null,
            "min_height": null,
            "min_width": null,
            "object_fit": null,
            "object_position": null,
            "order": null,
            "overflow": null,
            "overflow_x": null,
            "overflow_y": null,
            "padding": null,
            "right": null,
            "top": null,
            "visibility": null,
            "width": null
          }
        },
        "58b4c1b4cf434de4a11d2bba6f84bd0c": {
          "model_module": "@jupyter-widgets/controls",
          "model_module_version": "1.5.0",
          "model_name": "ButtonStyleModel",
          "state": {
            "_model_module": "@jupyter-widgets/controls",
            "_model_module_version": "1.5.0",
            "_model_name": "ButtonStyleModel",
            "_view_count": null,
            "_view_module": "@jupyter-widgets/base",
            "_view_module_version": "1.2.0",
            "_view_name": "StyleView",
            "button_color": null,
            "font_weight": ""
          }
        },
        "5d6a4711c7114fd8a6869b44456a42aa": {
          "model_module": "@jupyter-widgets/controls",
          "model_module_version": "1.5.0",
          "model_name": "TextModel",
          "state": {
            "_dom_classes": [],
            "_model_module": "@jupyter-widgets/controls",
            "_model_module_version": "1.5.0",
            "_model_name": "TextModel",
            "_view_count": null,
            "_view_module": "@jupyter-widgets/controls",
            "_view_module_version": "1.5.0",
            "_view_name": "TextView",
            "continuous_update": true,
            "description": "Element:",
            "description_tooltip": null,
            "disabled": false,
            "layout": "IPY_MODEL_a9dc10626a0948f192b0ea6377eb828e",
            "placeholder": "Enter list element and press \"Add\"",
            "style": "IPY_MODEL_a38baf23416e44ca8f153d2e0ebf48ea",
            "value": ""
          }
        },
        "6b5fa1043c914da8a5a45d60e5f21a54": {
          "model_module": "@jupyter-widgets/controls",
          "model_module_version": "1.5.0",
          "model_name": "ButtonStyleModel",
          "state": {
            "_model_module": "@jupyter-widgets/controls",
            "_model_module_version": "1.5.0",
            "_model_name": "ButtonStyleModel",
            "_view_count": null,
            "_view_module": "@jupyter-widgets/base",
            "_view_module_version": "1.2.0",
            "_view_name": "StyleView",
            "button_color": null,
            "font_weight": ""
          }
        },
        "8ec0a1527a8042c899350a20226bc9ee": {
          "model_module": "@jupyter-widgets/controls",
          "model_module_version": "1.5.0",
          "model_name": "ButtonModel",
          "state": {
            "_dom_classes": [],
            "_model_module": "@jupyter-widgets/controls",
            "_model_module_version": "1.5.0",
            "_model_name": "ButtonModel",
            "_view_count": null,
            "_view_module": "@jupyter-widgets/controls",
            "_view_module_version": "1.5.0",
            "_view_name": "ButtonView",
            "button_style": "success",
            "description": "Finish",
            "disabled": false,
            "icon": "",
            "layout": "IPY_MODEL_48679190f92944b4bc1e58b1b3c26764",
            "style": "IPY_MODEL_6b5fa1043c914da8a5a45d60e5f21a54",
            "tooltip": ""
          }
        },
        "a38baf23416e44ca8f153d2e0ebf48ea": {
          "model_module": "@jupyter-widgets/controls",
          "model_module_version": "1.5.0",
          "model_name": "DescriptionStyleModel",
          "state": {
            "_model_module": "@jupyter-widgets/controls",
            "_model_module_version": "1.5.0",
            "_model_name": "DescriptionStyleModel",
            "_view_count": null,
            "_view_module": "@jupyter-widgets/base",
            "_view_module_version": "1.2.0",
            "_view_name": "StyleView",
            "description_width": ""
          }
        },
        "a7dcd9c2b84342f9a6c061e82fb8644d": {
          "model_module": "@jupyter-widgets/output",
          "model_module_version": "1.0.0",
          "model_name": "OutputModel",
          "state": {
            "_dom_classes": [],
            "_model_module": "@jupyter-widgets/output",
            "_model_module_version": "1.0.0",
            "_model_name": "OutputModel",
            "_view_count": null,
            "_view_module": "@jupyter-widgets/output",
            "_view_module_version": "1.0.0",
            "_view_name": "OutputView",
            "layout": "IPY_MODEL_ce98917f063b4f7681115f350af2177e",
            "msg_id": "",
            "outputs": []
          }
        },
        "a9dc10626a0948f192b0ea6377eb828e": {
          "model_module": "@jupyter-widgets/base",
          "model_module_version": "1.2.0",
          "model_name": "LayoutModel",
          "state": {
            "_model_module": "@jupyter-widgets/base",
            "_model_module_version": "1.2.0",
            "_model_name": "LayoutModel",
            "_view_count": null,
            "_view_module": "@jupyter-widgets/base",
            "_view_module_version": "1.2.0",
            "_view_name": "LayoutView",
            "align_content": null,
            "align_items": null,
            "align_self": null,
            "border": null,
            "bottom": null,
            "display": null,
            "flex": null,
            "flex_flow": null,
            "grid_area": null,
            "grid_auto_columns": null,
            "grid_auto_flow": null,
            "grid_auto_rows": null,
            "grid_column": null,
            "grid_gap": null,
            "grid_row": null,
            "grid_template_areas": null,
            "grid_template_columns": null,
            "grid_template_rows": null,
            "height": null,
            "justify_content": null,
            "justify_items": null,
            "left": null,
            "margin": null,
            "max_height": null,
            "max_width": null,
            "min_height": null,
            "min_width": null,
            "object_fit": null,
            "object_position": null,
            "order": null,
            "overflow": null,
            "overflow_x": null,
            "overflow_y": null,
            "padding": null,
            "right": null,
            "top": null,
            "visibility": null,
            "width": "500px"
          }
        },
        "b1c984fea04d49fc8e991ad9c124bbee": {
          "model_module": "@jupyter-widgets/base",
          "model_module_version": "1.2.0",
          "model_name": "LayoutModel",
          "state": {
            "_model_module": "@jupyter-widgets/base",
            "_model_module_version": "1.2.0",
            "_model_name": "LayoutModel",
            "_view_count": null,
            "_view_module": "@jupyter-widgets/base",
            "_view_module_version": "1.2.0",
            "_view_name": "LayoutView",
            "align_content": null,
            "align_items": null,
            "align_self": null,
            "border": null,
            "bottom": null,
            "display": null,
            "flex": null,
            "flex_flow": null,
            "grid_area": null,
            "grid_auto_columns": null,
            "grid_auto_flow": null,
            "grid_auto_rows": null,
            "grid_column": null,
            "grid_gap": null,
            "grid_row": null,
            "grid_template_areas": null,
            "grid_template_columns": null,
            "grid_template_rows": null,
            "height": null,
            "justify_content": null,
            "justify_items": null,
            "left": null,
            "margin": null,
            "max_height": null,
            "max_width": null,
            "min_height": null,
            "min_width": null,
            "object_fit": null,
            "object_position": null,
            "order": null,
            "overflow": null,
            "overflow_x": null,
            "overflow_y": null,
            "padding": null,
            "right": null,
            "top": null,
            "visibility": null,
            "width": null
          }
        },
        "bfc4ccec036c4b80a4f86aa546ba97d0": {
          "model_module": "@jupyter-widgets/controls",
          "model_module_version": "1.5.0",
          "model_name": "ButtonModel",
          "state": {
            "_dom_classes": [],
            "_model_module": "@jupyter-widgets/controls",
            "_model_module_version": "1.5.0",
            "_model_name": "ButtonModel",
            "_view_count": null,
            "_view_module": "@jupyter-widgets/controls",
            "_view_module_version": "1.5.0",
            "_view_name": "ButtonView",
            "button_style": "",
            "description": "Add",
            "disabled": false,
            "icon": "",
            "layout": "IPY_MODEL_b1c984fea04d49fc8e991ad9c124bbee",
            "style": "IPY_MODEL_58b4c1b4cf434de4a11d2bba6f84bd0c",
            "tooltip": ""
          }
        },
        "ce98917f063b4f7681115f350af2177e": {
          "model_module": "@jupyter-widgets/base",
          "model_module_version": "1.2.0",
          "model_name": "LayoutModel",
          "state": {
            "_model_module": "@jupyter-widgets/base",
            "_model_module_version": "1.2.0",
            "_model_name": "LayoutModel",
            "_view_count": null,
            "_view_module": "@jupyter-widgets/base",
            "_view_module_version": "1.2.0",
            "_view_name": "LayoutView",
            "align_content": null,
            "align_items": null,
            "align_self": null,
            "border": null,
            "bottom": null,
            "display": null,
            "flex": null,
            "flex_flow": null,
            "grid_area": null,
            "grid_auto_columns": null,
            "grid_auto_flow": null,
            "grid_auto_rows": null,
            "grid_column": null,
            "grid_gap": null,
            "grid_row": null,
            "grid_template_areas": null,
            "grid_template_columns": null,
            "grid_template_rows": null,
            "height": null,
            "justify_content": null,
            "justify_items": null,
            "left": null,
            "margin": null,
            "max_height": null,
            "max_width": null,
            "min_height": null,
            "min_width": null,
            "object_fit": null,
            "object_position": null,
            "order": null,
            "overflow": null,
            "overflow_x": null,
            "overflow_y": null,
            "padding": null,
            "right": null,
            "top": null,
            "visibility": null,
            "width": null
          }
        }
      }
    }
  },
  "nbformat": 4,
  "nbformat_minor": 0
}