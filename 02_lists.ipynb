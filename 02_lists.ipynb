{
  "cells": [
    {
      "cell_type": "markdown",
      "metadata": {
        "id": "view-in-github",
        "colab_type": "text"
      },
      "source": [
        "<a href=\"https://colab.research.google.com/github/Skybypk/Project_4_assignments_saeed/blob/main/02_lists.ipynb\" target=\"_parent\"><img src=\"https://colab.research.google.com/assets/colab-badge.svg\" alt=\"Open In Colab\"/></a>"
      ]
    },
    {
      "cell_type": "code",
      "execution_count": null,
      "metadata": {
        "colab": {
          "base_uri": "https://localhost:8080/"
        },
        "id": "mY1Q1kYHEDa9",
        "outputId": "8a455cb4-ad7a-4c0e-d800-d6f2233820bc"
      },
      "outputs": [
        {
          "name": "stdout",
          "output_type": "stream",
          "text": [
            "01_add_many_number\n",
            "The sum of [5, 10, 15, 20] is: 50\n"
          ]
        }
      ],
      "source": [
        "print(\"01_add_many_number\")\n",
        "def sum_list(numbers):\n",
        "    total = 0\n",
        "    for num in numbers:\n",
        "        total += num\n",
        "    return total\n",
        "\n",
        "def main():\n",
        "    # Example usage of the function\n",
        "    sample_list = [5, 10, 15, 20]\n",
        "    result = sum_list(sample_list)\n",
        "    print(\"The sum of\", sample_list, \"is:\", result)\n",
        "\n",
        "# This provided line is required at the end of\n",
        "# Python file to call the main() function.\n",
        "if __name__ == '__main__':\n",
        "    main()\n",
        "\n",
        "\n"
      ]
    },
    {
      "cell_type": "code",
      "execution_count": null,
      "metadata": {
        "colab": {
          "base_uri": "https://localhost:8080/"
        },
        "id": "vOTz8_HvEgQQ",
        "outputId": "720d915d-55d4-4564-f4f3-1d49f48867a9"
      },
      "outputs": [
        {
          "name": "stdout",
          "output_type": "stream",
          "text": [
            "02_double_list\n",
            "Original list: [1, 2, 3, 4]\n",
            "Doubled list: [2, 4, 6, 8]\n",
            "[2, 4, 6, 8]\n"
          ]
        }
      ],
      "source": [
        "print(\"02_double_list\")\n",
        "def double_numbers(numbers):\n",
        "    for i in range(len(numbers)):\n",
        "        numbers[i] *= 2\n",
        "    return numbers\n",
        "\n",
        "def main():\n",
        "    numbers = [1, 2, 3, 4]\n",
        "    print(\"Original list:\", numbers)\n",
        "    doubled = double_numbers(numbers)\n",
        "    print(\"Doubled list:\", doubled)\n",
        "\n",
        "# This provided line is required at the end of\n",
        "# Python file to call the main() function.\n",
        "if __name__ == '__main__':\n",
        "    main()\n",
        "\n",
        "\n",
        "# Solution\n",
        "def main():\n",
        "    numbers: list[int] = [1, 2, 3, 4]  # Creates a list of numbers\n",
        "\n",
        "    for i in range(len(numbers)):  # Loop through the indices of the list\n",
        "        elem_at_index = numbers[i]  # Get the element at index i in the numbers list\n",
        "        numbers[i] = elem_at_index * 2  # Set the element at index i to be equal to the previous element times 2\n",
        "\n",
        "    print(numbers)  # This should print the doubled list\n",
        "\n",
        "\n",
        "# There is no need to edit code beyond this point\n",
        "\n",
        "if __name__ == '__main__':\n",
        "    main()\n"
      ]
    },
    {
      "cell_type": "code",
      "execution_count": null,
      "metadata": {
        "colab": {
          "base_uri": "https://localhost:8080/"
        },
        "id": "4RsPKXyUFPP3",
        "outputId": "69399a1f-d0b8-496c-d367-8c097c06fe13"
      },
      "outputs": [
        {
          "name": "stdout",
          "output_type": "stream",
          "text": [
            "04_flowing_with_data_structures\n",
            "Enter message to copy: av\n",
            "Before List: []\n",
            "After List: ['av', 'av', 'av']\n"
          ]
        }
      ],
      "source": [
        "print(\"04_flowing_with_data_structures\")\n",
        "\n",
        "def add_three_copies(lst, data):\n",
        "    for i in range(3):\n",
        "        lst.append(data)\n",
        "\n",
        "def main():\n",
        "    message = input(\"Enter message to copy: \")\n",
        "    lst = []\n",
        "    print(\"Before List:\", lst)\n",
        "    add_three_copies(lst, message)\n",
        "    print(\"After List:\", lst)\n",
        "\n",
        "if __name__ == \"__main__\":\n",
        "    main()\n",
        "\n",
        "\n"
      ]
    },
    {
      "cell_type": "code",
      "source": [
        "print(\"05_get_first_element\")\n",
        "\n",
        "def get_last_element(lst):\n",
        "    print(lst[-1])  # Using negative index to directly access the last element\n",
        "\n",
        "def main():\n",
        "    # Example usage:\n",
        "    my_list = [1, 2, 3, 4, 5]\n",
        "    get_last_element(my_list)  # Output: 5\n",
        "\n",
        "if __name__ == '__main__':\n",
        "    main()\n",
        "\n",
        "\n",
        "def get_first_element(lst):\n",
        "    \"\"\"\n",
        "    Prints the first element of a provided list.\n",
        "    \"\"\"\n",
        "\n",
        "    print(lst[0])\n",
        "\n",
        "# There is no need to edit code beyond this point\n",
        "\n",
        "def get_lst():\n",
        "    \"\"\"\n",
        "    Prompts the user to enter one element of the list at a time and returns the resulting list.\n",
        "    \"\"\"\n",
        "    lst = []\n",
        "    elem: str = input(\"Please enter an element of the list or press enter to stop. \")\n",
        "    while elem != \"\":\n",
        "        lst.append(elem)\n",
        "        elem = input(\"Please enter an element of the list or press enter to stop. \")\n",
        "    return lst\n",
        "\n",
        "def main():\n",
        "    lst = get_lst()\n",
        "    get_first_element(lst)\n",
        "\n",
        "\n",
        "if __name__ == '__main__':\n",
        "    main()\n",
        "\n"
      ],
      "metadata": {
        "colab": {
          "base_uri": "https://localhost:8080/"
        },
        "id": "Yw-F3ljdvJXz",
        "outputId": "59a02ad9-8028-40b3-d4e5-dd9b27aa34ea"
      },
      "execution_count": 9,
      "outputs": [
        {
          "output_type": "stream",
          "name": "stdout",
          "text": [
            "05_get_first_element\n",
            "5\n",
            "Please enter an element of the list or press enter to stop. banana\n",
            "Please enter an element of the list or press enter to stop. apple\n",
            "Please enter an element of the list or press enter to stop. cherry\n",
            "Please enter an element of the list or press enter to stop. mango\n",
            "Please enter an element of the list or press enter to stop. \n",
            "banana\n"
          ]
        }
      ]
    },
    {
      "cell_type": "code",
      "execution_count": null,
      "metadata": {
        "id": "cZX8XwYDFtY0",
        "colab": {
          "base_uri": "https://localhost:8080/"
        },
        "outputId": "82679bd3-c8fe-4113-9267-a882b063233b"
      },
      "outputs": [
        {
          "output_type": "stream",
          "name": "stdout",
          "text": [
            "07_get_list\n",
            "Enter a value: 10\n",
            "Enter a value: 50\n",
            "Enter a value: 30\n",
            "Enter a value: 40\n",
            "Enter a value: 66\n",
            "Enter a value: 58\n",
            "Enter a value: \n",
            "Here's the list: ['10', '50', '30', '40', '66', '58']\n"
          ]
        }
      ],
      "source": [
        "print(\"07_get_list\")\n",
        "def main():\n",
        "    values_list = []  # Initialize an empty list\n",
        "\n",
        "    while True:\n",
        "        value = input(\"Enter a value: \")  # Ask user for input\n",
        "        if value == \"\":  # If user presses Enter without typing anything\n",
        "            break  # Exit the loop\n",
        "        values_list.append(value)  # Add the value to the list\n",
        "\n",
        "    print(\"Here's the list:\", values_list)  # Print the final list\n",
        "\n",
        "# Python boilerplate to call the main function\n",
        "if __name__ == '__main__':\n",
        "    main()\n"
      ]
    },
    {
      "cell_type": "code",
      "execution_count": null,
      "metadata": {
        "id": "TKSNOys5F17B",
        "colab": {
          "base_uri": "https://localhost:8080/"
        },
        "outputId": "c0ebcaa0-9a49-4299-dbfc-7abf0ed817c6"
      },
      "outputs": [
        {
          "output_type": "stream",
          "name": "stdout",
          "text": [
            "08_shorten\n",
            "Enter a value (or press enter to finish): 545\n",
            "Enter a value (or press enter to finish): 545\n",
            "Enter a value (or press enter to finish): 6565\n",
            "Enter a value (or press enter to finish): 25\n",
            "Enter a value (or press enter to finish): 23\n",
            "Enter a value (or press enter to finish): \n",
            "Original list: ['545', '545', '6565', '25', '23']\n",
            "Removed: 23\n",
            "Removed: 25\n",
            "Removed: 6565\n",
            "Shortened list: ['545', '545']\n"
          ]
        }
      ],
      "source": [
        "print(\"08_shorten\")\n",
        "\n",
        "MAX_LENGTH = 3\n",
        "\n",
        "def shorten(lst):\n",
        "\n",
        "    while len(lst) >= MAX_LENGTH:\n",
        "        removed_item = lst.pop()  # Removes the last item\n",
        "        print(\"Removed:\", removed_item)\n",
        "\n",
        "def main():\n",
        "    # Get user input for list elements\n",
        "    lst = []\n",
        "    while True:\n",
        "        item = input(\"Enter a value (or press enter to finish): \")\n",
        "        if item == \"\":\n",
        "            break\n",
        "        lst.append(item)\n",
        "\n",
        "    print(\"Original list:\", lst)\n",
        "    shorten(lst)\n",
        "    print(\"Shortened list:\", lst)\n",
        "\n",
        "\n",
        "# This provided line is required at the end of the Python file\n",
        "if __name__ == '__main__':\n",
        "    main()\n"
      ]
    },
    {
      "cell_type": "code",
      "execution_count": null,
      "metadata": {
        "id": "BOdpaYFqEvgn"
      },
      "outputs": [],
      "source": []
    }
  ],
  "metadata": {
    "colab": {
      "provenance": [],
      "authorship_tag": "ABX9TyMLK73dRE5JysbrdgRKqH8l",
      "include_colab_link": true
    },
    "kernelspec": {
      "display_name": "Python 3",
      "name": "python3"
    },
    "language_info": {
      "name": "python"
    }
  },
  "nbformat": 4,
  "nbformat_minor": 0
}