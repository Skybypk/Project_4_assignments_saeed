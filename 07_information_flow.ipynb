{
  "nbformat": 4,
  "nbformat_minor": 0,
  "metadata": {
    "colab": {
      "provenance": [],
      "authorship_tag": "ABX9TyMPLiXmfib4dxSqgYYJZs2w",
      "include_colab_link": true
    },
    "kernelspec": {
      "name": "python3",
      "display_name": "Python 3"
    },
    "language_info": {
      "name": "python"
    }
  },
  "cells": [
    {
      "cell_type": "markdown",
      "metadata": {
        "id": "view-in-github",
        "colab_type": "text"
      },
      "source": [
        "<a href=\"https://colab.research.google.com/github/Skybypk/Project_4_assignments_saeed/blob/main/07_information_flow.ipynb\" target=\"_parent\"><img src=\"https://colab.research.google.com/assets/colab-badge.svg\" alt=\"Open In Colab\"/></a>"
      ]
    },
    {
      "cell_type": "code",
      "execution_count": 1,
      "metadata": {
        "colab": {
          "base_uri": "https://localhost:8080/"
        },
        "id": "AFyQ55EEKYzr",
        "outputId": "9d13006a-c91b-482d-9937-12dca32dccea"
      },
      "outputs": [
        {
          "output_type": "stream",
          "name": "stdout",
          "text": [
            "00_choosing_returns\n",
            "How old is this person?: 30\n",
            "True\n"
          ]
        }
      ],
      "source": [
        "print(\"00_choosing_returns\")\n",
        "ADULT_AGE = 18  # Legal adult age in the US\n",
        "\n",
        "def is_adult(age: int) -> bool:\n",
        "    return age >= ADULT_AGE\n",
        "\n",
        "def main():\n",
        "    age = int(input(\"How old is this person?: \"))\n",
        "    print(is_adult(age))\n",
        "\n",
        "# This provided line is required at the end of\n",
        "# Python file to call the main() function.\n",
        "if __name__ == '__main__':\n",
        "    main()\n"
      ]
    },
    {
      "cell_type": "code",
      "source": [
        "print(\"01_greetings\")\n",
        "def greet(name: str):\n",
        "    print(f\"Greetings {name}!\")\n",
        "\n",
        "def main():\n",
        "    name = input(\"What's your name? \")  # Get the user's name\n",
        "    greet(name)  # Call the greet function with the user's name\n",
        "\n",
        "if __name__ == '__main__':\n",
        "    main()\n"
      ],
      "metadata": {
        "colab": {
          "base_uri": "https://localhost:8080/"
        },
        "id": "9X4UNkXNK6Ms",
        "outputId": "92816979-128f-4e6f-de41-2cca0718b092"
      },
      "execution_count": 2,
      "outputs": [
        {
          "output_type": "stream",
          "name": "stdout",
          "text": [
            "01_greetings\n",
            "What's your name? saeed\n",
            "Greetings saeed!\n"
          ]
        }
      ]
    },
    {
      "cell_type": "code",
      "source": [
        "print(\"02_in_range\")\n",
        "def in_range(n, low, high):\n",
        "    \"\"\"\n",
        "    Returns True if n is between low and high, inclusive.\n",
        "    high is guaranteed to be greater than low.\n",
        "    \"\"\"\n",
        "    return low <= n <= high  # Check if n is between low and high, inclusive\n",
        "\n",
        "def main():\n",
        "    # Example test cases\n",
        "    print(in_range(5, 1, 10))  # True: 5 is between 1 and 10\n",
        "    print(in_range(0, 1, 10))  # False: 0 is not between 1 and 10\n",
        "    print(in_range(10, 1, 10)) # True: 10 is between 1 and 10, inclusive\n",
        "\n",
        "# This provided line is required at the end of the Python file to call the main() function.\n",
        "if __name__ == '__main__':\n",
        "    main()\n"
      ],
      "metadata": {
        "colab": {
          "base_uri": "https://localhost:8080/"
        },
        "id": "DayvRaxDLNIl",
        "outputId": "39f4fa00-c6e8-490b-84e3-e711ca686605"
      },
      "execution_count": 3,
      "outputs": [
        {
          "output_type": "stream",
          "name": "stdout",
          "text": [
            "02_in_range\n",
            "True\n",
            "False\n",
            "True\n"
          ]
        }
      ]
    },
    {
      "cell_type": "code",
      "source": [
        "print(\"03_in_stock\")\n",
        "inventory = {\n",
        "    \"apple\": 10,\n",
        "    \"banana\": 5,\n",
        "    \"pear\": 1000,\n",
        "    \"orange\": 0,\n",
        "    \"grape\": 20\n",
        "}\n",
        "def num_in_stock(fruit):\n",
        "    \"\"\"Returns how many of the specified fruit are in stock.\"\"\"\n",
        "    return inventory.get(fruit, 0)\n",
        "\n",
        "def main():\n",
        "    fruit = input(\"Enter a fruit: \").lower()  # Get user input and convert it to lowercase for case insensitivity\n",
        "    stock = num_in_stock(fruit)\n",
        "\n",
        "    if stock > 0:\n",
        "        print(f\"This fruit is in stock! Here is how many:\\n{stock}\")\n",
        "    else:\n",
        "        print(\"This fruit is not in stock.\")\n",
        "\n",
        "# This provided line is required at the end of the Python file to call the main() function.\n",
        "if __name__ == '__main__':\n",
        "    main()"
      ],
      "metadata": {
        "colab": {
          "base_uri": "https://localhost:8080/"
        },
        "id": "cxmGl05cLl3s",
        "outputId": "94514a47-4a82-4432-f25d-4b07b732554b"
      },
      "execution_count": 4,
      "outputs": [
        {
          "output_type": "stream",
          "name": "stdout",
          "text": [
            "03_in_stock\n",
            "Enter a fruit: apple\n",
            "This fruit is in stock! Here is how many:\n",
            "10\n"
          ]
        }
      ]
    },
    {
      "cell_type": "code",
      "source": [
        "print(\"04_multiple_returns\")\n",
        "def get_user_data():\n",
        "    # Asking the user for their data\n",
        "    first_name = input(\"What is your first name?: \")\n",
        "    last_name = input(\"What is your last name?: \")\n",
        "    email = input(\"What is your email address?: \")\n",
        "\n",
        "    # Returning the collected data as a tuple\n",
        "    return first_name, last_name, email\n",
        "\n",
        "def main():\n",
        "    # Calling the get_user_data function and unpacking the returned tuple\n",
        "    user_data = get_user_data()\n",
        "\n",
        "    # Printing the collected data\n",
        "    print(\"Received the following user data:\", user_data)\n",
        "\n",
        "# This provided line is required at the end of Python file to call the main() function.\n",
        "if __name__ == '__main__':\n",
        "    main()\n"
      ],
      "metadata": {
        "colab": {
          "base_uri": "https://localhost:8080/"
        },
        "id": "1439iUDEM93K",
        "outputId": "58d8458b-6642-411b-d3c2-8c5b65124809"
      },
      "execution_count": 5,
      "outputs": [
        {
          "output_type": "stream",
          "name": "stdout",
          "text": [
            "04_multiple_returns\n",
            "What is your first name?: Saeed\n",
            "What is your last name?: Khan\n",
            "What is your email address?: skybypk@gmail.com\n",
            "Received the following user data: ('Saeed', 'Khan', 'skybypk@gmail.com')\n"
          ]
        }
      ]
    },
    {
      "cell_type": "code",
      "source": [
        "print(\"05_subtract_7\")\n",
        "def subtract_seven(num):\n",
        "    return num - 7\n",
        "\n",
        "def main():\n",
        "    num = int(input(\"Enter a number: \"))  # Get user input\n",
        "    result = subtract_seven(num)  # Call subtract_seven to subtract 7 from num\n",
        "    print(\"The result after subtracting 7 is:\", result)\n",
        "\n",
        "# This provided line is required at the end of the Python file to call the main() function.\n",
        "if __name__ == '__main__':\n",
        "    main()\n"
      ],
      "metadata": {
        "colab": {
          "base_uri": "https://localhost:8080/"
        },
        "id": "baAGfReKNkZm",
        "outputId": "e1518093-8c40-41f8-a8d2-c86f1575d701"
      },
      "execution_count": 6,
      "outputs": [
        {
          "output_type": "stream",
          "name": "stdout",
          "text": [
            "05_subtract_7\n",
            "Enter a number: 8\n",
            "The result after subtracting 7 is: 1\n"
          ]
        }
      ]
    }
  ]
}