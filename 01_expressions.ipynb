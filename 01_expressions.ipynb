{
  "nbformat": 4,
  "nbformat_minor": 0,
  "metadata": {
    "colab": {
      "provenance": [],
      "authorship_tag": "ABX9TyOugGD+brr5vfZskg0x4TLt",
      "include_colab_link": true
    },
    "kernelspec": {
      "name": "python3",
      "display_name": "Python 3"
    },
    "language_info": {
      "name": "python"
    }
  },
  "cells": [
    {
      "cell_type": "markdown",
      "metadata": {
        "id": "view-in-github",
        "colab_type": "text"
      },
      "source": [
        "<a href=\"https://colab.research.google.com/github/Skybypk/Project_4_assignments_saeed/blob/main/01_expressions.ipynb\" target=\"_parent\"><img src=\"https://colab.research.google.com/assets/colab-badge.svg\" alt=\"Open In Colab\"/></a>"
      ]
    },
    {
      "cell_type": "code",
      "execution_count": null,
      "metadata": {
        "colab": {
          "base_uri": "https://localhost:8080/"
        },
        "id": "Z8OFQndn5lVG",
        "outputId": "f06d797d-3fe1-403c-9aed-c000115e5c0f"
      },
      "outputs": [
        {
          "output_type": "stream",
          "name": "stdout",
          "text": [
            "01_dicesimulator\n",
            "Rolling two dice three times...\n",
            "\n",
            "Roll 1\n",
            "Die 1: 2 Die 2: 3\n",
            "\n",
            "Roll 2\n",
            "Die 1: 5 Die 2: 4\n",
            "\n",
            "Roll 3\n",
            "Die 1: 2 Die 2: 3\n",
            "\n"
          ]
        }
      ],
      "source": [
        "print(\"01_dicesimulator\")\n",
        "import random\n",
        "\n",
        "def roll_dice():\n",
        "    die1 = random.randint(1, 6)\n",
        "    die2 = random.randint(1, 6)\n",
        "    print(\"Die 1:\", die1, \"Die 2:\", die2)\n",
        "\n",
        "def main():\n",
        "    print(\"Rolling two dice three times...\\n\")\n",
        "\n",
        "    for i in range(3):\n",
        "        print(\"Roll\", i + 1)\n",
        "        roll_dice()\n",
        "        print()  # Print a blank line for spacing\n",
        "\n",
        "\n",
        "if __name__ == '__main__':\n",
        "    main()\n"
      ]
    },
    {
      "cell_type": "code",
      "source": [
        "print(\"02_e=mc2\")\n",
        "C: int = 299792458  # m/s\n",
        "\n",
        "def main():\n",
        "    # Prompt the user to enter mass in kilograms\n",
        "    mass_in_kg: float = float(input(\"Enter kilos of mass: \"))\n",
        "\n",
        "    # Calculate energy using Einstein's formula\n",
        "    energy_in_joules: float = mass_in_kg * (C ** 2)\n",
        "\n",
        "    # Display the calculation steps and result\n",
        "    print(\"e = m * C^2...\")\n",
        "    print(\"m = \" + str(mass_in_kg) + \" kg\")\n",
        "    print(\"C = \" + str(C) + \" m/s\")\n",
        "    print(str(energy_in_joules) + \" joules of energy!\")\n",
        "\n",
        "# This provided line is required at the end of\n",
        "# the Python file to call the main() function.\n",
        "if __name__ == '__main__':\n",
        "    main()\n"
      ],
      "metadata": {
        "colab": {
          "base_uri": "https://localhost:8080/"
        },
        "id": "Hm8tpJZJ6Sas",
        "outputId": "a76a8418-adc8-4ca6-9cbe-868b99b2c83c"
      },
      "execution_count": null,
      "outputs": [
        {
          "output_type": "stream",
          "name": "stdout",
          "text": [
            "02_e=mc2\n",
            "Enter kilos of mass: 140\n",
            "e = m * C^2...\n",
            "m = 140.0 kg\n",
            "C = 299792458 m/s\n",
            "1.2582572502315446e+19 joules of energy!\n"
          ]
        }
      ]
    },
    {
      "cell_type": "code",
      "source": [
        "print(\"03_feet_to_inches\")\n",
        "def main():\n",
        "    feet: float = float(input(\"Enter number of feet: \"))  # Ask user for feet\n",
        "    inches: float = feet * 12  # Convert feet to inches\n",
        "    print(\"That is\", inches, \"inches!\")  # Show result\n",
        "\n",
        "if __name__ == '__main__':\n",
        "    main()\n"
      ],
      "metadata": {
        "colab": {
          "base_uri": "https://localhost:8080/"
        },
        "id": "05pXWzt768Oc",
        "outputId": "7aec6727-7092-4958-a23e-23380ebc8f63"
      },
      "execution_count": null,
      "outputs": [
        {
          "output_type": "stream",
          "name": "stdout",
          "text": [
            "03_feet_to_inches\n",
            "Enter number of feet: 45\n",
            "That is 540.0 inches!\n"
          ]
        }
      ]
    },
    {
      "cell_type": "code",
      "source": [
        "print(\"04_pythagorean_theorem\")\n",
        "def main():\n",
        "    import math\n",
        "    ab: float = float(input(\"Enter the length of AB: \"))\n",
        "    ac: float = float(input(\"Enter the length of AC: \"))\n",
        "    bc: float = math.sqrt(ab**2 + ac**2)\n",
        "    print(\"The length of BC (the hypotenuse) is: \" + str(bc))\n",
        "\n",
        "\n",
        "# This provided line is required at the end of\n",
        "# Python file to call the main() function.\n",
        "if __name__ == '__main__':\n",
        "    main()\n"
      ],
      "metadata": {
        "colab": {
          "base_uri": "https://localhost:8080/"
        },
        "id": "qku1xXrY8FUv",
        "outputId": "bbfd9f1c-ac55-460e-e255-6ab6d8ad6c26"
      },
      "execution_count": null,
      "outputs": [
        {
          "output_type": "stream",
          "name": "stdout",
          "text": [
            "04_pythagorean_theorem\n",
            "Enter the length of AB: 5.5\n",
            "Enter the length of AC: 62\n",
            "The length of BC (the hypotenuse) is: 62.2434735534578\n"
          ]
        }
      ]
    },
    {
      "cell_type": "code",
      "source": [
        "print(\"05_remainder_division\")\n",
        "def main():\n",
        "    dividend: int = int(input(\"Please enter an integer to be divided: \"))\n",
        "    divisor: int = int(input(\"Please enter an integer to divide by: \"))\n",
        "\n",
        "    quotient: int = dividend // divisor  # Integer division\n",
        "    remainder: int = dividend % divisor  # Remainder (modulo)\n",
        "\n",
        "    print(\"The result of this division is \" + str(quotient) + \" with a remainder of \" + str(remainder))\n",
        "\n",
        "if __name__ == '__main__':\n",
        "    main()"
      ],
      "metadata": {
        "colab": {
          "base_uri": "https://localhost:8080/"
        },
        "id": "JQyZiNFO9GyC",
        "outputId": "fb93e942-00e5-4e69-bddd-76fcaff9700b"
      },
      "execution_count": null,
      "outputs": [
        {
          "output_type": "stream",
          "name": "stdout",
          "text": [
            "05_remainder_division\n",
            "Please enter an integer to be divided: 46\n",
            "Please enter an integer to divide by: 4\n",
            "The result of this division is 11 with a remainder of 2\n"
          ]
        }
      ]
    },
    {
      "cell_type": "code",
      "source": [
        "print(\"06_rolldice\")\n",
        "import random\n",
        "\n",
        "def main():\n",
        "    # Roll two dice\n",
        "    die1 = random.randint(1, 6)  # Random number between 1 and 6 for the first die\n",
        "    die2 = random.randint(1, 6)  # Random number between 1 and 6 for the second die\n",
        "\n",
        "    # Print the results of the rolls\n",
        "    print(\"Rolled a\", die1, \"on the first die.\")\n",
        "    print(\"Rolled a\", die2, \"on the second die.\")\n",
        "\n",
        "    # Calculate and print the total\n",
        "    total = die1 + die2\n",
        "    print(\"The total is:\", total)\n",
        "\n",
        "if __name__ == '__main__':\n",
        "    main()\n",
        "\n"
      ],
      "metadata": {
        "colab": {
          "base_uri": "https://localhost:8080/"
        },
        "id": "WTae0Q19-FZY",
        "outputId": "70217316-0923-4982-e6da-8ab21517be6d"
      },
      "execution_count": null,
      "outputs": [
        {
          "output_type": "stream",
          "name": "stdout",
          "text": [
            "06_rolldice\n",
            "Rolled a 3 on the first die.\n",
            "Rolled a 2 on the second die.\n",
            "The total is: 5\n"
          ]
        }
      ]
    },
    {
      "cell_type": "code",
      "source": [
        "print(\"06_seconds_in_year\")\n",
        "DAYS_IN_YEAR = 365\n",
        "HOURS_IN_DAY = 24\n",
        "MINUTES_IN_HOUR = 60\n",
        "SECONDS_IN_MINUTE = 60\n",
        "\n",
        "def main():\n",
        "    # Calculate seconds in a year\n",
        "    seconds_in_year = DAYS_IN_YEAR * HOURS_IN_DAY * MINUTES_IN_HOUR * SECONDS_IN_MINUTE\n",
        "\n",
        "    # Display result\n",
        "    print(\"There are\", seconds_in_year, \"seconds in a year!\")\n",
        "\n",
        "# This provided line is required at the end of\n",
        "# Python file to call the main() function.\n",
        "if __name__ == '__main__':\n",
        "    main()\n"
      ],
      "metadata": {
        "colab": {
          "base_uri": "https://localhost:8080/"
        },
        "id": "fx5caDEd-_VZ",
        "outputId": "609bb9a1-353d-4a14-dd32-39987ce2a35a"
      },
      "execution_count": null,
      "outputs": [
        {
          "output_type": "stream",
          "name": "stdout",
          "text": [
            "06_seconds_in_year\n",
            "There are 31536000 seconds in a year!\n"
          ]
        }
      ]
    },
    {
      "cell_type": "code",
      "source": [
        "print(\"07_tiny_mad_lib\")\n",
        "def main():\n",
        "    # Get user inputs\n",
        "    adjective = input(\"Please type an adjective and press enter. \")\n",
        "    noun = input(\"Please type a noun and press enter. \")\n",
        "    verb = input(\"Please type a verb and press enter. \")\n",
        "\n",
        "    # Create and print the sentence\n",
        "    print(SENTENCE_START, adjective, noun, verb + \"!\")\n",
        "\n",
        "if __name__ == '__main__':\n",
        "    main()\n"
      ],
      "metadata": {
        "colab": {
          "base_uri": "https://localhost:8080/"
        },
        "id": "D3s4-71LBjQP",
        "outputId": "8dfd728b-0951-4211-a28e-d6b3d75f0150"
      },
      "execution_count": null,
      "outputs": [
        {
          "output_type": "stream",
          "name": "stdout",
          "text": [
            "07_tiny_mad_lib\n",
            "Please type an adjective and press enter. cute\n",
            "Please type a noun and press enter. Lion\n",
            "Please type a verb and press enter. sleep\n",
            "Code in Place is fun. I learned to program and used Python to make my cute Lion sleep!\n"
          ]
        }
      ]
    }
  ]
}