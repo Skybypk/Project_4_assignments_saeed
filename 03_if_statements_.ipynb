{
  "nbformat": 4,
  "nbformat_minor": 0,
  "metadata": {
    "colab": {
      "provenance": [],
      "authorship_tag": "ABX9TyPiH61JQgzkVZipTSjVOJbN",
      "include_colab_link": true
    },
    "kernelspec": {
      "name": "python3",
      "display_name": "Python 3"
    },
    "language_info": {
      "name": "python"
    }
  },
  "cells": [
    {
      "cell_type": "markdown",
      "metadata": {
        "id": "view-in-github",
        "colab_type": "text"
      },
      "source": [
        "<a href=\"https://colab.research.google.com/github/Skybypk/Project_4_assignments_saeed/blob/main/03_if_statements_.ipynb\" target=\"_parent\"><img src=\"https://colab.research.google.com/assets/colab-badge.svg\" alt=\"Open In Colab\"/></a>"
      ]
    },
    {
      "cell_type": "code",
      "source": [
        "print(\"01_print_events\")\n",
        "def main():\n",
        "    # Print the first 20 even numbers starting from 0\n",
        "    for i in range(20):\n",
        "        print(i * 2, end=\" \")  # Print on same line with space\n",
        "    print()  # Add a newline at the end\n",
        "\n",
        "if __name__ == '__main__':\n",
        "    main()"
      ],
      "metadata": {
        "colab": {
          "base_uri": "https://localhost:8080/"
        },
        "id": "p5fMhD9aYL_l",
        "outputId": "38e95f0b-2d4d-4bd1-af5b-9ec6d8141a9f"
      },
      "execution_count": 13,
      "outputs": [
        {
          "output_type": "stream",
          "name": "stdout",
          "text": [
            "01_print_events\n",
            "0 2 4 6 8 10 12 14 16 18 20 22 24 26 28 30 32 34 36 38 \n"
          ]
        }
      ]
    },
    {
      "cell_type": "code",
      "source": [
        "print(\"02_international_voting_age\")\n",
        "def main():\n",
        "    # Voting age requirements\n",
        "    VOTING_AGES = {\n",
        "        \"Peturksbouipo\": 16,\n",
        "        \"Stanlau\": 25,\n",
        "        \"Mayengua\": 48\n",
        "    }\n",
        "\n",
        "    # Get user input\n",
        "    try:\n",
        "        age = int(input(\"How old are you? \"))\n",
        "    except ValueError:\n",
        "        print(\"Please enter a valid age as a number.\")\n",
        "        return\n",
        "\n",
        "    # Check voting eligibility for each country\n",
        "    for country, min_age in VOTING_AGES.items():\n",
        "        if age >= min_age:\n",
        "            print(f\"You can vote in {country} where the voting age is {min_age}.\")\n",
        "        else:\n",
        "            print(f\"You cannot vote in {country} where the voting age is {min_age}.\")\n",
        "\n",
        "if __name__ == '__main__':\n",
        "    main()"
      ],
      "metadata": {
        "colab": {
          "base_uri": "https://localhost:8080/"
        },
        "id": "docx7YF3Z1zh",
        "outputId": "668e5c3b-55f2-49da-8309-4d87e966db64"
      },
      "execution_count": 15,
      "outputs": [
        {
          "output_type": "stream",
          "name": "stdout",
          "text": [
            "02_international_voting_age\n",
            "How old are you? 48\n",
            "You can vote in Peturksbouipo where the voting age is 16.\n",
            "You can vote in Stanlau where the voting age is 25.\n",
            "You can vote in Mayengua where the voting age is 48.\n"
          ]
        }
      ]
    },
    {
      "cell_type": "code",
      "source": [
        "print(\"03_leap_year\")\n",
        "def main():\n",
        "    # Ask the user for a year\n",
        "    year = int(input(\"Enter a year: \"))\n",
        "\n",
        "    # Check leap year conditions\n",
        "    if (year % 4 == 0 and year % 100 != 0) or (year % 400 == 0):\n",
        "        print(\"That's a leap year!\")\n",
        "    else:\n",
        "        print(\"That's not a leap year.\")\n",
        "\n",
        "\n",
        "# This provided line is required at the end of the Python file\n",
        "if __name__ == '__main__':\n",
        "    main()\n"
      ],
      "metadata": {
        "colab": {
          "base_uri": "https://localhost:8080/"
        },
        "id": "rZ_84vYyar6H",
        "outputId": "0ddf0723-7ed1-4b41-aed1-ff6e04c29cb6"
      },
      "execution_count": 18,
      "outputs": [
        {
          "output_type": "stream",
          "name": "stdout",
          "text": [
            "03_leap_year\n",
            "Enter a year: 1980\n",
            "That's a leap year!\n"
          ]
        }
      ]
    },
    {
      "cell_type": "code",
      "source": [
        "print(\"04_tall_enough_to_ride\")\n",
        "def main():\n",
        "    MIN_HEIGHT = 50  # Minimum height requirement in cm\n",
        "\n",
        "    print(\"Rollercoaster Height Checker (Enter to quit)\")\n",
        "\n",
        "    while True:\n",
        "        height_input = input(\"\\nHow tall are you (in cm)? \").strip()\n",
        "\n",
        "        # Exit condition - empty input\n",
        "        if not height_input:\n",
        "            print(\"Thanks for checking! Enjoy your day.\")\n",
        "            break\n",
        "\n",
        "        try:\n",
        "            height = float(height_input)\n",
        "\n",
        "            if height <= 0:\n",
        "                print(\"Please enter a valid positive height.\")\n",
        "                continue\n",
        "\n",
        "            if height >= MIN_HEIGHT:\n",
        "                print(\"🎢 You're tall enough to ride!\")\n",
        "            else:\n",
        "                missing = MIN_HEIGHT - height\n",
        "                print(f\"🚸 You're not tall enough to ride, but maybe next year! (You need {missing:.1f}cm more)\")\n",
        "\n",
        "        except ValueError:\n",
        "            print(\"⚠️ Please enter a valid number for your height.\")\n",
        "\n",
        "\n",
        "if __name__ == '__main__':\n",
        "    main()\n"
      ],
      "metadata": {
        "colab": {
          "base_uri": "https://localhost:8080/"
        },
        "id": "oJM2JY3Bchqf",
        "outputId": "16e7565a-0d51-4ba1-cd25-36afe22fc29a"
      },
      "execution_count": 21,
      "outputs": [
        {
          "output_type": "stream",
          "name": "stdout",
          "text": [
            "04_tall_enough_to_ride\n",
            "Rollercoaster Height Checker (Enter to quit)\n",
            "\n",
            "How tall are you (in cm)? 156\n",
            "🎢 You're tall enough to ride!\n",
            "\n",
            "How tall are you (in cm)? 78\n",
            "🎢 You're tall enough to ride!\n",
            "\n",
            "How tall are you (in cm)? 50\n",
            "🎢 You're tall enough to ride!\n",
            "\n",
            "How tall are you (in cm)? 124\n",
            "🎢 You're tall enough to ride!\n",
            "\n",
            "How tall are you (in cm)? 88\n",
            "🎢 You're tall enough to ride!\n",
            "\n",
            "How tall are you (in cm)? \n",
            "Thanks for checking! Enjoy your day.\n"
          ]
        }
      ]
    },
    {
      "cell_type": "code",
      "source": [
        "print(\"05_random_numbers\")\n",
        "if __name__ == '__main__':\n",
        "    main()\n",
        "\n",
        "#Solution\n",
        "\n",
        "import random\n",
        "\n",
        "N_NUMBERS: int = 10\n",
        "MIN_VALUE: int = 1\n",
        "MAX_VALUE: int = 100\n",
        "\n",
        "def main():\n",
        "    numbers = []  # Empty list to store random numbers\n",
        "\n",
        "    for _ in range(N_NUMBERS):\n",
        "        num = random.randint(MIN_VALUE, MAX_VALUE)\n",
        "        numbers.append(num)\n",
        "\n",
        "    print(\"Randomly generated numbers:\")\n",
        "    print(numbers)\n",
        "\n",
        "if __name__ == '__main__':\n",
        "    main()\n",
        "\n"
      ],
      "metadata": {
        "colab": {
          "base_uri": "https://localhost:8080/"
        },
        "id": "eEEyP3NAdZ9E",
        "outputId": "edac407c-ab4f-46f0-bbe3-d9b33784a9a2"
      },
      "execution_count": 23,
      "outputs": [
        {
          "output_type": "stream",
          "name": "stdout",
          "text": [
            "05_random_numbers\n",
            "Randomly generated numbers:\n",
            "[25, 41, 67, 1, 54, 44, 44, 86, 53, 56]\n",
            "Randomly generated numbers:\n",
            "[46, 34, 31, 55, 89, 14, 50, 79, 91, 88]\n"
          ]
        }
      ]
    },
    {
      "cell_type": "code",
      "source": [],
      "metadata": {
        "id": "DFustuOXeapF"
      },
      "execution_count": null,
      "outputs": []
    }
  ]
}